{
  "nbformat": 4,
  "nbformat_minor": 0,
  "metadata": {
    "colab": {
      "name": "collections1.ipynb",
      "provenance": [],
      "collapsed_sections": [
        "OQbh44q6DPJQ",
        "9YGM11-sIRbs",
        "mrb-LgJVLe1C",
        "b1E3pOm8PM8B",
        "d6KJyS5QEUxG",
        "7qb1qPATJZce",
        "S1_Fwv5DVWtX",
        "U-czgfqsYrbd",
        "F-GVdWMNg3bg",
        "IHBA1LGPpGU1"
      ]
    },
    "kernelspec": {
      "name": "python3",
      "display_name": "Python 3"
    }
  },
  "cells": [
    {
      "cell_type": "markdown",
      "metadata": {
        "id": "VJpUgIBqBhUe",
        "colab_type": "text"
      },
      "source": [
        "# Collections\n",
        "\n",
        "1. Listas\n",
        "2. Tuplas\n",
        "3. Lista de tuplas\n",
        "4. Tupla de objetos\n",
        "5. Heraça e polimorfismo\n",
        "6. _Array_ e Numpy\n",
        "7. Igualdade e o `__eq__`\n",
        "8. Outras _built in functions_ \n",
        "9. Ordenação"
      ]
    },
    {
      "cell_type": "markdown",
      "metadata": {
        "id": "OQbh44q6DPJQ",
        "colab_type": "text"
      },
      "source": [
        "## 1. Listas\n",
        "\n",
        "- Sequência ordenada de acesso aleatório (posso acessar seus elementos de forma indexada)\n",
        "- Funcionamento similar ao conceito de _array_ que existe na maior parte das linguagens, mas não é o _array_ do Python\n",
        "- É mutável (pode ter seus valores alterados)\n",
        "- Aceita elementos de diferentes tipos, mas o uso \"padrão\" é com tipagem comum para que seja possível fazer alguma ação/tratamento em iterações"
      ]
    },
    {
      "cell_type": "code",
      "metadata": {
        "id": "NLSMejw-Btkd",
        "colab_type": "code",
        "colab": {
          "base_uri": "https://localhost:8080/",
          "height": 34
        },
        "outputId": "23ca2d1c-ecb8-4b84-c211-7ea481b29b6e"
      },
      "source": [
        "idades = [14, 35, 27, 22]\n",
        "print(idades)"
      ],
      "execution_count": null,
      "outputs": [
        {
          "output_type": "stream",
          "text": [
            "[14, 35, 27, 22]\n"
          ],
          "name": "stdout"
        }
      ]
    },
    {
      "cell_type": "code",
      "metadata": {
        "id": "tAtcyfSjDUXv",
        "colab_type": "code",
        "colab": {}
      },
      "source": [
        ""
      ],
      "execution_count": null,
      "outputs": []
    },
    {
      "cell_type": "code",
      "metadata": {
        "id": "JDkfOOwrB6kQ",
        "colab_type": "code",
        "colab": {
          "base_uri": "https://localhost:8080/",
          "height": 34
        },
        "outputId": "fafcac85-621e-42a2-aa4b-844ef9af0cb7"
      },
      "source": [
        "# adiciona um elemento ao final da lista\n",
        "idades.append(41)\n",
        "print(idades)"
      ],
      "execution_count": null,
      "outputs": [
        {
          "output_type": "stream",
          "text": [
            "[14, 35, 27, 22, 41]\n"
          ],
          "name": "stdout"
        }
      ]
    },
    {
      "cell_type": "code",
      "metadata": {
        "id": "g4kjBJtQCRc4",
        "colab_type": "code",
        "colab": {
          "base_uri": "https://localhost:8080/",
          "height": 34
        },
        "outputId": "ee5e2f46-879d-4fc7-feab-5d091e7a1561"
      },
      "source": [
        "# remove a primeira ocorrencia do elemento passado\n",
        "idades.remove(27)\n",
        "idades.append(27)\n",
        "print(idades)"
      ],
      "execution_count": null,
      "outputs": [
        {
          "output_type": "stream",
          "text": [
            "[14, 35, 22, 41, 27]\n"
          ],
          "name": "stdout"
        }
      ]
    },
    {
      "cell_type": "code",
      "metadata": {
        "id": "LsSQ7TsZDBbC",
        "colab_type": "code",
        "colab": {}
      },
      "source": [
        ""
      ],
      "execution_count": null,
      "outputs": []
    },
    {
      "cell_type": "code",
      "metadata": {
        "id": "8YExTb3XCdYs",
        "colab_type": "code",
        "colab": {
          "base_uri": "https://localhost:8080/",
          "height": 34
        },
        "outputId": "efafd858-e831-401a-cd54-7bbbca3c66da"
      },
      "source": [
        "# insere um elemento antes do indice passado\n",
        "idades.insert(1, 25)\n",
        "print(idades)"
      ],
      "execution_count": null,
      "outputs": [
        {
          "output_type": "stream",
          "text": [
            "[14, 25, 35, 22, 41, 27]\n"
          ],
          "name": "stdout"
        }
      ]
    },
    {
      "cell_type": "code",
      "metadata": {
        "id": "iMtNKFx4Dc-O",
        "colab_type": "code",
        "colab": {
          "base_uri": "https://localhost:8080/",
          "height": 34
        },
        "outputId": "7ad37800-9153-4afe-8b68-256b909a376c"
      },
      "source": [
        "idades.clear()\n",
        "print(idades)"
      ],
      "execution_count": null,
      "outputs": [
        {
          "output_type": "stream",
          "text": [
            "[]\n"
          ],
          "name": "stdout"
        }
      ]
    },
    {
      "cell_type": "code",
      "metadata": {
        "id": "vUASTNCBDjVK",
        "colab_type": "code",
        "colab": {
          "base_uri": "https://localhost:8080/",
          "height": 34
        },
        "outputId": "80e11562-67c9-43ba-d727-e97298ae7eed"
      },
      "source": [
        "idades = [25, 14, 35, 27, 41, 22]\n",
        "# adiciona os elementos da lista passada\n",
        "idades.extend([17, 29])\n",
        "print(idades)"
      ],
      "execution_count": null,
      "outputs": [
        {
          "output_type": "stream",
          "text": [
            "[25, 14, 35, 27, 41, 22, 17, 29]\n"
          ],
          "name": "stdout"
        }
      ]
    },
    {
      "cell_type": "code",
      "metadata": {
        "id": "8QzZ1km2D_1H",
        "colab_type": "code",
        "colab": {
          "base_uri": "https://localhost:8080/",
          "height": 34
        },
        "outputId": "150148b7-0cd7-4aa7-ab30-6ed6086a8473"
      },
      "source": [
        "idades_mais_um = []\n",
        "for idade in idades:\n",
        "  idades_mais_um.append(idade+1)\n",
        "print(idades_mais_um)"
      ],
      "execution_count": null,
      "outputs": [
        {
          "output_type": "stream",
          "text": [
            "[26, 15, 36, 28, 42, 23, 18, 30]\n"
          ],
          "name": "stdout"
        }
      ]
    },
    {
      "cell_type": "markdown",
      "metadata": {
        "id": "t5FdD83eGXei",
        "colab_type": "text"
      },
      "source": [
        "### 1.1. _List comprehesion_\n",
        "Permite escrever de forma mais compacta iterações sobre listas que apliquem alguma transformação ou filtragem"
      ]
    },
    {
      "cell_type": "code",
      "metadata": {
        "id": "Qs54DKwpEy0Q",
        "colab_type": "code",
        "colab": {
          "base_uri": "https://localhost:8080/",
          "height": 34
        },
        "outputId": "6389e9a4-4ab1-44bb-8ec3-fdba7444973a"
      },
      "source": [
        "[(idade + 1) for idade in idades]"
      ],
      "execution_count": null,
      "outputs": [
        {
          "output_type": "stream",
          "text": [
            "[26, 15, 36, 28, 42, 23, 18, 30]\n"
          ],
          "name": "stdout"
        }
      ]
    },
    {
      "cell_type": "code",
      "metadata": {
        "id": "f4RjhkkfFM_e",
        "colab_type": "code",
        "colab": {
          "base_uri": "https://localhost:8080/",
          "height": 34
        },
        "outputId": "1fe3560d-90b1-440a-84fa-85e351a2571f"
      },
      "source": [
        "# filtra idades maiores que 25\n",
        "[idade for idade in idades if idade > 25]"
      ],
      "execution_count": null,
      "outputs": [
        {
          "output_type": "execute_result",
          "data": {
            "text/plain": [
              "[35, 27, 41, 29]"
            ]
          },
          "metadata": {
            "tags": []
          },
          "execution_count": 15
        }
      ]
    },
    {
      "cell_type": "code",
      "metadata": {
        "id": "OlBlC5rOGBTL",
        "colab_type": "code",
        "colab": {
          "base_uri": "https://localhost:8080/",
          "height": 34
        },
        "outputId": "40476257-edac-4209-d0af-6ea08f063694"
      },
      "source": [
        "def faz_aniversario(idade):\n",
        "  return idade + 1\n",
        "\n",
        "[faz_aniversario(idade) for idade in idades if idade > 25]"
      ],
      "execution_count": null,
      "outputs": [
        {
          "output_type": "execute_result",
          "data": {
            "text/plain": [
              "[36, 28, 42, 30]"
            ]
          },
          "metadata": {
            "tags": []
          },
          "execution_count": 16
        }
      ]
    },
    {
      "cell_type": "markdown",
      "metadata": {
        "id": "jAytgi1wOzp8",
        "colab_type": "text"
      },
      "source": [
        "### 1.2. Problemas da mutabilidade"
      ]
    },
    {
      "cell_type": "markdown",
      "metadata": {
        "id": "9YGM11-sIRbs",
        "colab_type": "text"
      },
      "source": [
        "#### Passagem por referência\n",
        "Um problema trazido pela mutabilidade de listas ocorre quando passamos essa lista para uma função, pois no Python essa passagem é feita por referência, ou seja, não estou passando uma cópia da minha lista que ira existir apenas no escopa da função.\n",
        "\n",
        "No exemplo abaixo a lista é passada para uma função que realiza algumas operações na lista:"
      ]
    },
    {
      "cell_type": "code",
      "metadata": {
        "id": "A-bWSLnGH9kQ",
        "colab_type": "code",
        "colab": {}
      },
      "source": [
        "def faz_algumas_coisas(lista):\n",
        "  print(len(lista))\n",
        "  lista.pop()\n",
        "  lista.append(67)\n",
        "  if 25 in lista:\n",
        "    lista.remove(25)\n",
        "  lista[0] = 0\n",
        "  print(len(lista))"
      ],
      "execution_count": null,
      "outputs": []
    },
    {
      "cell_type": "code",
      "metadata": {
        "id": "MC34JEdtKpcX",
        "colab_type": "code",
        "colab": {
          "base_uri": "https://localhost:8080/",
          "height": 69
        },
        "outputId": "5624c7c0-c3e1-4892-ba5e-1480819007e8"
      },
      "source": [
        "idades = [15, 19, 25, 28, 22, 23]\n",
        "faz_algumas_coisas(idades)\n",
        "idades"
      ],
      "execution_count": null,
      "outputs": [
        {
          "output_type": "stream",
          "text": [
            "6\n",
            "5\n"
          ],
          "name": "stdout"
        },
        {
          "output_type": "execute_result",
          "data": {
            "text/plain": [
              "[0, 19, 28, 22, 67]"
            ]
          },
          "metadata": {
            "tags": []
          },
          "execution_count": 31
        }
      ]
    },
    {
      "cell_type": "markdown",
      "metadata": {
        "id": "mrb-LgJVLe1C",
        "colab_type": "text"
      },
      "source": [
        "#### Cacheamento de métodos\n",
        "Outro problema que vale ser citado é quando definimos um valor padrão para parâmetros opcionais, no caso em que esse parâmetro é transformado dentro da função.\n",
        "\n",
        "Como no caso abaixo em que a função é chamada várias vezes sem passar nenhum argumento. Dessa forma a cada chamada é adicionado um elemento na lista que inicialmente era vazia, mas que foi cacheada na primeira vez que foi chamada (?)."
      ]
    },
    {
      "cell_type": "code",
      "metadata": {
        "id": "xXgI-oPGLdfd",
        "colab_type": "code",
        "colab": {}
      },
      "source": [
        "def funcao_cacheada(lista = []):\n",
        "  print(len(lista))\n",
        "  print(lista)\n",
        "  lista.append(1)"
      ],
      "execution_count": null,
      "outputs": []
    },
    {
      "cell_type": "code",
      "metadata": {
        "id": "CRM5w9SaM2r4",
        "colab_type": "code",
        "colab": {
          "base_uri": "https://localhost:8080/",
          "height": 156
        },
        "outputId": "cdb1f927-162c-4b52-96b6-a881e4f18d0d"
      },
      "source": [
        "funcao_cacheada()\n",
        "funcao_cacheada()\n",
        "funcao_cacheada()\n",
        "funcao_cacheada()"
      ],
      "execution_count": null,
      "outputs": [
        {
          "output_type": "stream",
          "text": [
            "0\n",
            "[]\n",
            "1\n",
            "[1]\n",
            "2\n",
            "[1, 1]\n",
            "3\n",
            "[1, 1, 1]\n"
          ],
          "name": "stdout"
        }
      ]
    },
    {
      "cell_type": "markdown",
      "metadata": {
        "id": "h6V6sD_6NNfY",
        "colab_type": "text"
      },
      "source": [
        "Uma forma de evitar esse problema é passando \"nada\" como valor padrão:"
      ]
    },
    {
      "cell_type": "code",
      "metadata": {
        "id": "PbAIO9A8NFDK",
        "colab_type": "code",
        "colab": {}
      },
      "source": [
        "def funcao_cacheada(lista = None):\n",
        "  if lista == None:\n",
        "    lista = []\n",
        "  print(len(lista))\n",
        "  print(lista)\n",
        "  lista.append(1)"
      ],
      "execution_count": null,
      "outputs": []
    },
    {
      "cell_type": "code",
      "metadata": {
        "id": "DaskbfZWNpyd",
        "colab_type": "code",
        "colab": {
          "base_uri": "https://localhost:8080/",
          "height": 156
        },
        "outputId": "01de72f6-4ef8-40d5-dab4-5a7584c14ed6"
      },
      "source": [
        "funcao_cacheada()\n",
        "funcao_cacheada()\n",
        "funcao_cacheada()\n",
        "funcao_cacheada()"
      ],
      "execution_count": null,
      "outputs": [
        {
          "output_type": "stream",
          "text": [
            "0\n",
            "[]\n",
            "0\n",
            "[]\n",
            "0\n",
            "[]\n",
            "0\n",
            "[]\n"
          ],
          "name": "stdout"
        }
      ]
    },
    {
      "cell_type": "markdown",
      "metadata": {
        "id": "b1E3pOm8PM8B",
        "colab_type": "text"
      },
      "source": [
        "#### Objetos próprios"
      ]
    },
    {
      "cell_type": "code",
      "metadata": {
        "id": "tzt4htVmPY1e",
        "colab_type": "code",
        "colab": {}
      },
      "source": [
        "class ContaCorrente:\n",
        "\n",
        "  def __init__(self, codigo):\n",
        "    self.codigo = codigo\n",
        "    self.saldo = 0\n",
        "\n",
        "  def deposita(self, valor):\n",
        "    self.saldo += valor\n",
        "\n",
        "  def __str__(self):\n",
        "    return \"=> Codigo {}\\tSaldo {}\".format(self.codigo, self.saldo)"
      ],
      "execution_count": 14,
      "outputs": []
    },
    {
      "cell_type": "code",
      "metadata": {
        "id": "Aq-eJaAevRGf",
        "colab_type": "code",
        "colab": {
          "base_uri": "https://localhost:8080/",
          "height": 34
        },
        "outputId": "778ee0e1-e121-458a-b602-276f950b9ae0"
      },
      "source": [
        "minha_conta = ContaCorrente(15)\n",
        "print(minha_conta)"
      ],
      "execution_count": 24,
      "outputs": [
        {
          "output_type": "stream",
          "text": [
            "=> Codigo 15\tSaldo 0\n"
          ],
          "name": "stdout"
        }
      ]
    },
    {
      "cell_type": "code",
      "metadata": {
        "id": "NNJpJfsUwSpQ",
        "colab_type": "code",
        "colab": {
          "base_uri": "https://localhost:8080/",
          "height": 34
        },
        "outputId": "0fbece0b-bb13-494b-9622-7621e931fcf6"
      },
      "source": [
        "minha_conta.deposita(100)\n",
        "print(minha_conta)"
      ],
      "execution_count": 25,
      "outputs": [
        {
          "output_type": "stream",
          "text": [
            "=> Codigo 15\tSaldo 100\n"
          ],
          "name": "stdout"
        }
      ]
    },
    {
      "cell_type": "code",
      "metadata": {
        "id": "q-ptF8U1w0sv",
        "colab_type": "code",
        "colab": {
          "base_uri": "https://localhost:8080/",
          "height": 34
        },
        "outputId": "dbe3746d-7b02-4b9c-c0f2-3168d5a6ad14"
      },
      "source": [
        "outra_conta = ContaCorrente(16)\n",
        "outra_conta.deposita(200)\n",
        "print(outra_conta)"
      ],
      "execution_count": 19,
      "outputs": [
        {
          "output_type": "stream",
          "text": [
            "=> Codigo 16\tSaldo 200\n"
          ],
          "name": "stdout"
        }
      ]
    },
    {
      "cell_type": "code",
      "metadata": {
        "id": "cgr-_KbHxC_M",
        "colab_type": "code",
        "colab": {
          "base_uri": "https://localhost:8080/",
          "height": 34
        },
        "outputId": "e9c5f421-1bf8-4618-866a-0bf160c11078"
      },
      "source": [
        "# lista com referencias para as contas\n",
        "contas = [minha_conta, outra_conta]\n",
        "print(contas)\n",
        "# dessa forma nao chama o metodo padrao de representacao em string, mas podemos ver que sao objetos diferentes"
      ],
      "execution_count": 21,
      "outputs": [
        {
          "output_type": "stream",
          "text": [
            "[<__main__.ContaCorrente object at 0x7f70f9b12588>, <__main__.ContaCorrente object at 0x7f70f9b84e80>]\n"
          ],
          "name": "stdout"
        }
      ]
    },
    {
      "cell_type": "code",
      "metadata": {
        "id": "3P-U3Z-lxjNz",
        "colab_type": "code",
        "colab": {
          "base_uri": "https://localhost:8080/",
          "height": 52
        },
        "outputId": "4dc9b013-6950-41af-84bb-d9419d417235"
      },
      "source": [
        "# devemos acessar cada objeto individualmente para imprimir sua representação\n",
        "for conta in contas:\n",
        "  print(conta)"
      ],
      "execution_count": 22,
      "outputs": [
        {
          "output_type": "stream",
          "text": [
            "=> Codigo 15\tSaldo 100\n",
            "=> Codigo 16\tSaldo 200\n"
          ],
          "name": "stdout"
        }
      ]
    },
    {
      "cell_type": "markdown",
      "metadata": {
        "id": "QsQ7gaHWy7Ex",
        "colab_type": "text"
      },
      "source": [
        "Novamente podemos observar um \"problema\" que ocorre devido a mutabilidade das listas.\n",
        "\n",
        "Criando uma lista com dois elementos `minha_conta`, o que acontece é que agora temos uma lista com dois elementos que refênciam o objeto `minha_conta` que foi instânciado. Ou seja, no total temos três referências para nosso objeto que esta na memória.\n",
        "\n",
        "Assim, qualquer transformação que fizermos em uma das refências afetará o objeto:"
      ]
    },
    {
      "cell_type": "code",
      "metadata": {
        "id": "ns0l_FpWzuKa",
        "colab_type": "code",
        "colab": {
          "base_uri": "https://localhost:8080/",
          "height": 86
        },
        "outputId": "385256f5-84e7-467b-9dbe-d790deb0776a"
      },
      "source": [
        "minhas_contas = [minha_conta, minha_conta]\n",
        "print(minha_conta)\n",
        "minhas_contas[0].deposita(50)\n",
        "print(minha_conta)\n",
        "minhas_contas[1].deposita(-300)\n",
        "print(minha_conta)\n",
        "minha_conta.deposita(70)\n",
        "print(minha_conta)"
      ],
      "execution_count": 26,
      "outputs": [
        {
          "output_type": "stream",
          "text": [
            "=> Codigo 15\tSaldo 100\n",
            "=> Codigo 15\tSaldo 150\n",
            "=> Codigo 15\tSaldo -150\n",
            "=> Codigo 15\tSaldo -80\n"
          ],
          "name": "stdout"
        }
      ]
    },
    {
      "cell_type": "markdown",
      "metadata": {
        "id": "d6KJyS5QEUxG",
        "colab_type": "text"
      },
      "source": [
        "#### Apresentando valores com uma representação imutável\n",
        "Vamos considerar o caso em que preciso realizar algumas operações sobre várias contas. Posso criar uma lista de contas e iterar sobre cada um dos elementos dessa lista:"
      ]
    },
    {
      "cell_type": "code",
      "metadata": {
        "id": "zSv98EZhEh0_",
        "colab_type": "code",
        "colab": {
          "base_uri": "https://localhost:8080/",
          "height": 52
        },
        "outputId": "79847983-19ae-4efa-a421-c45ec12bcc5b"
      },
      "source": [
        "def deposita_varias_contas(contas):\n",
        "  for conta in contas:\n",
        "    conta.deposita(100)\n",
        "\n",
        "contas = [minha_conta, outra_conta]\n",
        "print(contas[0], \"\\t\", contas[1])\n",
        "deposita_varias_contas(contas)\n",
        "print(contas[0], \"\\t\", contas[1])"
      ],
      "execution_count": 29,
      "outputs": [
        {
          "output_type": "stream",
          "text": [
            "=> Codigo 15\tSaldo 120 \t => Codigo 16\tSaldo 400\n",
            "=> Codigo 15\tSaldo 220 \t => Codigo 16\tSaldo 500\n"
          ],
          "name": "stdout"
        }
      ]
    },
    {
      "cell_type": "markdown",
      "metadata": {
        "id": "4HM0YfhcGWtf",
        "colab_type": "text"
      },
      "source": [
        "Em algum momento surge a necessidade de utilizar o primeiro elemento dessa lista para indicar a agência dessas contas, ou seja, cada lista representa as contas de uma agência. Eu já não posso utilizar os métodos criados anteriormente sem modificá-los, pois o primeiro elemento da lista é um número e não possui o método `deposita()`:"
      ]
    },
    {
      "cell_type": "code",
      "metadata": {
        "id": "2xb50yEkEkaW",
        "colab_type": "code",
        "colab": {
          "base_uri": "https://localhost:8080/",
          "height": 34
        },
        "outputId": "fe21d88a-5776-4ac0-87c4-744266cf1891"
      },
      "source": [
        "agencia = 49\n",
        "contas.insert(0, agencia)\n",
        "print(contas[0], contas[1], contas[2])"
      ],
      "execution_count": 30,
      "outputs": [
        {
          "output_type": "stream",
          "text": [
            "49 => Codigo 15\tSaldo 220 => Codigo 16\tSaldo 500\n"
          ],
          "name": "stdout"
        }
      ]
    },
    {
      "cell_type": "markdown",
      "metadata": {
        "id": "OTJGtcIkHLQK",
        "colab_type": "text"
      },
      "source": [
        "Ou então vamos pensar na situação em que preciso de uma representação (apenas) dos nomes e idades dos correntistas:\n",
        "\n",
        "```\n",
        "correntista_um = ['batatinha', 25]\n",
        "correntista_dois = ['cenourinha', 28]\n",
        "```\n",
        "\n",
        "Se eu precisa agrupar essas informações terei que criar uma lista com cada uma das listas que representa um correntista. E se algum método quiser modificar alguma dessas lista, vai conseguir pois listas são mutáveis.\n",
        "\n",
        "Nessa situação em que eu quero uma **representação imutável** a lista não é o contentor mais indicado, para isso devemos utilizar as **tuplas**.\n",
        "\n",
        "```\n",
        "correntista_um = ('batatinha', 25) # tupla\n",
        "correntista_dois = ('cenourinha', 28)\n",
        "correntista_tres = (23, 'tomatinho') # não deve ser feito\n",
        "```"
      ]
    },
    {
      "cell_type": "markdown",
      "metadata": {
        "id": "7qb1qPATJZce",
        "colab_type": "text"
      },
      "source": [
        "## 2. Tuplas\n",
        "\n",
        "\"Basicamente\" é uma lista imutável. Aceita elementos de diferentes tipos, é indexada, mas não posso modificar / adicionar / remover seus elementos.\n",
        "\n",
        "Devido a sua imutabilidade, em geral, as tuplas não são usadas para esse fim. Em geral nessas situações são utilizadas classes com atributos ao invés de tuplas, pois assim posso definir comportamentos (métodos) para esses objetos, o que não é possível com tuplas.\n",
        "\n",
        "Se optarmos por trabalhar com tuplas, em situações similares ao exemplo em questão, devemos desenvolver o código baseado em valores e funções. Isso é uma característica mais próxima do paradigma funcional que de OO.\n",
        "\n"
      ]
    },
    {
      "cell_type": "code",
      "metadata": {
        "id": "GBgwwcn3G_Mp",
        "colab_type": "code",
        "colab": {}
      },
      "source": [
        "conta_bruno = (15, 1000) # número e saldo da conta\n",
        "# conta_bruno.deposita(100) # variação OO ('comportamento' é definido junto dos 'dados')\n",
        "\n",
        "# variação funcional (separando 'comportamento' dos 'dados')\n",
        "def deposita(conta):\n",
        "  novo_saldo = conta[1] + 100\n",
        "  codigo = conta[1]\n",
        "  return (codigo, novo_saldo)"
      ],
      "execution_count": 33,
      "outputs": []
    },
    {
      "cell_type": "code",
      "metadata": {
        "id": "1edpa60VSbTS",
        "colab_type": "code",
        "colab": {
          "base_uri": "https://localhost:8080/",
          "height": 34
        },
        "outputId": "67dfa6f7-3064-4428-9881-0cd3e6250c63"
      },
      "source": [
        "# retorna uma nova tupla\n",
        "deposita(conta_bruno)"
      ],
      "execution_count": 34,
      "outputs": [
        {
          "output_type": "execute_result",
          "data": {
            "text/plain": [
              "(1000, 1100)"
            ]
          },
          "metadata": {
            "tags": []
          },
          "execution_count": 34
        }
      ]
    },
    {
      "cell_type": "code",
      "metadata": {
        "id": "_glFyVywS0j9",
        "colab_type": "code",
        "colab": {
          "base_uri": "https://localhost:8080/",
          "height": 34
        },
        "outputId": "ce8c0148-abec-4ad0-8513-24f61fd1fee2"
      },
      "source": [
        "# a tupla original permanece intocada\n",
        "conta_bruno"
      ],
      "execution_count": 35,
      "outputs": [
        {
          "output_type": "execute_result",
          "data": {
            "text/plain": [
              "(15, 1000)"
            ]
          },
          "metadata": {
            "tags": []
          },
          "execution_count": 35
        }
      ]
    },
    {
      "cell_type": "code",
      "metadata": {
        "id": "vrmyDWHrS3X-",
        "colab_type": "code",
        "colab": {
          "base_uri": "https://localhost:8080/",
          "height": 34
        },
        "outputId": "6b9bc26c-b673-4d82-a3c8-f94b351bfe76"
      },
      "source": [
        "# atribuindo novamente, consigo \"fazer o deposito na conta original\"\n",
        "conta_bruno = deposita(conta_bruno)\n",
        "conta_bruno"
      ],
      "execution_count": 36,
      "outputs": [
        {
          "output_type": "execute_result",
          "data": {
            "text/plain": [
              "(1000, 1100)"
            ]
          },
          "metadata": {
            "tags": []
          },
          "execution_count": 36
        }
      ]
    },
    {
      "cell_type": "markdown",
      "metadata": {
        "id": "dVdbneiMT6JY",
        "colab_type": "text"
      },
      "source": [
        "Em geral o uso de tuplas vai te levar mais para o lado do paradigma funcional e as listas para o OO, mas isso não é uma regra.\n",
        "\n",
        "**Resumindo**, tuplas vão ser mais utilizadas quando a posição for essencial para a representação e nesse caso o tamanho também deve ser fixo. Enquanto que as listas vão ser usadas quando a posição não for importante para a representação, quando todos os elementos puderem receber o mesmo tratamento."
      ]
    },
    {
      "cell_type": "markdown",
      "metadata": {
        "id": "S1_Fwv5DVWtX",
        "colab_type": "text"
      },
      "source": [
        "## 3. Lista de tuplas\n",
        "\n",
        "Verificamos que para nosso propósito o mais adequado é representarmos as contas usando tuplas.\n",
        "\n",
        "E para a situação em que precisamos agregar um número variável de contas em uma coleção podemos muito bem criar uma lista de contas. Por exemplo, a medida que mais pessoas vão abrindo contas no Banco é preciso adicioná-las na coleção:"
      ]
    },
    {
      "cell_type": "code",
      "metadata": {
        "id": "xaeiS9QlVbAZ",
        "colab_type": "code",
        "colab": {
          "base_uri": "https://localhost:8080/",
          "height": 34
        },
        "outputId": "93c03e39-c56d-4ae9-c80e-f30368bc3adb"
      },
      "source": [
        "bruno = ('Bruno', 27, 1993)\n",
        "bruna = ('Bruna', 25, 1995)\n",
        "usuarios = [bruno, bruna]\n",
        "usuarios"
      ],
      "execution_count": 37,
      "outputs": [
        {
          "output_type": "execute_result",
          "data": {
            "text/plain": [
              "[('Bruno', 27, 1993), ('Bruna', 25, 1995)]"
            ]
          },
          "metadata": {
            "tags": []
          },
          "execution_count": 37
        }
      ]
    },
    {
      "cell_type": "code",
      "metadata": {
        "id": "ac7SnSKzWQ96",
        "colab_type": "code",
        "colab": {}
      },
      "source": [
        "breno = ('Breno', 31, 1989)\n",
        "usuarios.append(breno)\n",
        "usuarios"
      ],
      "execution_count": null,
      "outputs": []
    },
    {
      "cell_type": "markdown",
      "metadata": {
        "id": "U-czgfqsYrbd",
        "colab_type": "text"
      },
      "source": [
        "## 4. Tupla de objetos\n",
        "\n",
        "Pode ser útil quando vamos tratar uma coleção imutável de objetos, pois não corremos o risco da coleção mudar, mas podemos alterar os objetos atraves de suas referências. No fim das contas o que tem dentro da tupla são as referências para os objetos e não os objetos em si."
      ]
    },
    {
      "cell_type": "code",
      "metadata": {
        "id": "AlNrCfqTZthK",
        "colab_type": "code",
        "colab": {
          "base_uri": "https://localhost:8080/",
          "height": 52
        },
        "outputId": "866d9c78-6034-442e-c838-6cdd318e25aa"
      },
      "source": [
        "conta_bruno = ContaCorrente(15)\n",
        "conta_bruno.deposita(100)\n",
        "conta_bruna = ContaCorrente(16)\n",
        "conta_bruna.deposita(200)\n",
        "\n",
        "contas = (conta_bruno, conta_bruna)\n",
        "contas"
      ],
      "execution_count": 40,
      "outputs": [
        {
          "output_type": "execute_result",
          "data": {
            "text/plain": [
              "(<__main__.ContaCorrente at 0x7f70f1e6a2b0>,\n",
              " <__main__.ContaCorrente at 0x7f70f1e6a2e8>)"
            ]
          },
          "metadata": {
            "tags": []
          },
          "execution_count": 40
        }
      ]
    },
    {
      "cell_type": "code",
      "metadata": {
        "id": "JR7rqFmeZwcy",
        "colab_type": "code",
        "colab": {
          "base_uri": "https://localhost:8080/",
          "height": 52
        },
        "outputId": "cbfda576-07a3-4cf6-f7ac-0d1bcfe8e5c9"
      },
      "source": [
        "for conta in contas:\n",
        "  print(conta)"
      ],
      "execution_count": 41,
      "outputs": [
        {
          "output_type": "stream",
          "text": [
            "=> Codigo 15\tSaldo 100\n",
            "=> Codigo 16\tSaldo 200\n"
          ],
          "name": "stdout"
        }
      ]
    },
    {
      "cell_type": "code",
      "metadata": {
        "id": "BaLTrPzWbODo",
        "colab_type": "code",
        "colab": {
          "base_uri": "https://localhost:8080/",
          "height": 52
        },
        "outputId": "ff08c0e1-4a81-4bff-9f60-cd00bce476fa"
      },
      "source": [
        "contas[0].deposita(100)\n",
        "for conta in contas:\n",
        "  print(conta)"
      ],
      "execution_count": 42,
      "outputs": [
        {
          "output_type": "stream",
          "text": [
            "=> Codigo 15\tSaldo 200\n",
            "=> Codigo 16\tSaldo 200\n"
          ],
          "name": "stdout"
        }
      ]
    },
    {
      "cell_type": "markdown",
      "metadata": {
        "id": "zm8_5fm-awzt",
        "colab_type": "text"
      },
      "source": [
        "Apesar se der um uso útil, em geral as tuplas não são usadas para essa situação descrita acima, pois suas posições não tem significado."
      ]
    },
    {
      "cell_type": "markdown",
      "metadata": {
        "id": "F-GVdWMNg3bg",
        "colab_type": "text"
      },
      "source": [
        "## 5. Heraça e polimorfismo"
      ]
    },
    {
      "cell_type": "code",
      "metadata": {
        "id": "RCgfskVDifOt",
        "colab_type": "code",
        "colab": {}
      },
      "source": [
        "class Conta:\n",
        "\n",
        "  def __init__(self, codigo):\n",
        "    self._codigo = codigo\n",
        "    self._saldo = 0\n",
        "\n",
        "  def deposita(self, valor):\n",
        "    self._saldo += valor\n",
        "    return self\n",
        "\n",
        "  def __str__(self):\n",
        "    return \"\\t=> Codigo {}\\tSaldo {}\\t\".format(self._codigo, self._saldo)"
      ],
      "execution_count": 55,
      "outputs": []
    },
    {
      "cell_type": "code",
      "metadata": {
        "id": "J2Ucsw33imrf",
        "colab_type": "code",
        "colab": {
          "base_uri": "https://localhost:8080/",
          "height": 34
        },
        "outputId": "d9a231e7-6a94-48b1-88b3-cd2983fb66ce"
      },
      "source": [
        "print(Conta(15).deposita(100))"
      ],
      "execution_count": 48,
      "outputs": [
        {
          "output_type": "stream",
          "text": [
            "\t=> Codigo 15\tSaldo 100\t\n"
          ],
          "name": "stdout"
        }
      ]
    },
    {
      "cell_type": "code",
      "metadata": {
        "id": "mSOmcW7bi6Wa",
        "colab_type": "code",
        "colab": {}
      },
      "source": [
        "class ContaCorrente(Conta):\n",
        "  def vira_mes(self):\n",
        "    self._saldo -= 2\n",
        "    return self\n",
        "\n",
        "class ContaPoupanca(Conta):\n",
        "  def vira_mes(self):\n",
        "    self._saldo *= 1.01\n",
        "    self._saldo -= 3\n",
        "    return self"
      ],
      "execution_count": 56,
      "outputs": []
    },
    {
      "cell_type": "code",
      "metadata": {
        "id": "RqTFmgaljxv4",
        "colab_type": "code",
        "colab": {
          "base_uri": "https://localhost:8080/",
          "height": 34
        },
        "outputId": "3ee5ab83-8610-4620-e828-2c12b7944f3d"
      },
      "source": [
        "conta1 = ContaCorrente(1)\n",
        "conta1.deposita(1000)\n",
        "conta1.vira_mes()\n",
        "print(conta1)"
      ],
      "execution_count": 57,
      "outputs": [
        {
          "output_type": "stream",
          "text": [
            "\t=> Codigo 1\tSaldo 998\t\n"
          ],
          "name": "stdout"
        }
      ]
    },
    {
      "cell_type": "code",
      "metadata": {
        "id": "lpYSHqZgkHKw",
        "colab_type": "code",
        "colab": {
          "base_uri": "https://localhost:8080/",
          "height": 34
        },
        "outputId": "7f4956ef-c23c-4cf1-8bf5-b6014df50c48"
      },
      "source": [
        "conta2 = ContaPoupanca(2)\n",
        "conta2.deposita(1000)\n",
        "conta2.vira_mes()\n",
        "print(conta2)"
      ],
      "execution_count": 58,
      "outputs": [
        {
          "output_type": "stream",
          "text": [
            "\t=> Codigo 2\tSaldo 1007.0\t\n"
          ],
          "name": "stdout"
        }
      ]
    },
    {
      "cell_type": "code",
      "metadata": {
        "id": "N5-ADffck1DZ",
        "colab_type": "code",
        "colab": {
          "base_uri": "https://localhost:8080/",
          "height": 69
        },
        "outputId": "5e80a91f-6e10-49fb-9287-007e25d9c37b"
      },
      "source": [
        "# utilizando polimorfismo\n",
        "contas = [conta1, conta2, ContaCorrente(3)]\n",
        "\n",
        "for conta in contas:\n",
        "  conta.deposita(500)\n",
        "  print(conta)"
      ],
      "execution_count": 59,
      "outputs": [
        {
          "output_type": "stream",
          "text": [
            "\t=> Codigo 1\tSaldo 1498\t\n",
            "\t=> Codigo 2\tSaldo 1507.0\t\n",
            "\t=> Codigo 3\tSaldo 500\t\n"
          ],
          "name": "stdout"
        }
      ]
    },
    {
      "cell_type": "code",
      "metadata": {
        "id": "DZaHJEyYl3pR",
        "colab_type": "code",
        "colab": {
          "base_uri": "https://localhost:8080/",
          "height": 69
        },
        "outputId": "18ab9ce3-8be5-4595-a337-82101a6c0246"
      },
      "source": [
        "for conta in contas:\n",
        "  conta.vira_mes()\n",
        "  print(conta)"
      ],
      "execution_count": 60,
      "outputs": [
        {
          "output_type": "stream",
          "text": [
            "\t=> Codigo 1\tSaldo 1496\t\n",
            "\t=> Codigo 2\tSaldo 1519.07\t\n",
            "\t=> Codigo 3\tSaldo 498\t\n"
          ],
          "name": "stdout"
        }
      ]
    },
    {
      "cell_type": "markdown",
      "metadata": {
        "id": "Ot3daPu8ukQH",
        "colab_type": "text"
      },
      "source": [
        "### 5.1. Método abstrato\n",
        "\n",
        "Vamos corrigir o problema de que as classes que extendem `Conta` não são obrigadas a implementar o método `vira_mes()`.\n",
        "\n",
        "Reescrevemos a classe `Conta` tornando-a uma classe abstrata, dessa forma ela não pode ser instânciada. E definimos o `vira_mes()` como um método abstrato, assim todas as classes que extenderem `Conta` serão obrigadas a fazer uma implementação de `vira_mes()`."
      ]
    },
    {
      "cell_type": "code",
      "metadata": {
        "id": "CsaxB-ZwvA0y",
        "colab_type": "code",
        "colab": {}
      },
      "source": [
        "from abc import ABCMeta, abstractmethod\n",
        "class Conta(metaclass=ABCMeta):\n",
        "\n",
        "  def __init__(self, codigo):\n",
        "    self._codigo = codigo\n",
        "    self._saldo = 0\n",
        "\n",
        "  def deposita(self, valor):\n",
        "    self._saldo += valor\n",
        "    return self\n",
        "  \n",
        "  @abstractmethod\n",
        "  def vira_mes(self):\n",
        "    pass\n",
        "\n",
        "  def __str__(self):\n",
        "    return \"\\t=> Codigo {}\\tSaldo {}\\t\".format(self._codigo, self._saldo)\n",
        "\n",
        "class ContaCorrente(Conta):\n",
        "  def vira_mes(self):\n",
        "    self._saldo -= 2\n",
        "    return self\n",
        "\n",
        "class ContaPoupanca(Conta):\n",
        "  def vira_mes(self):\n",
        "    self._saldo *= 1.01\n",
        "    self._saldo -= 3\n",
        "    return self"
      ],
      "execution_count": 86,
      "outputs": []
    },
    {
      "cell_type": "markdown",
      "metadata": {
        "id": "6rBf9o6ew4Vy",
        "colab_type": "text"
      },
      "source": [
        "Se alguma classe extender `Conta` sem implementar `vira_mes()` será lançado um erro no momento que esta classe for instânciada e não quando fosse acessar o método `vira_mes()` para algum objeto dessa classe."
      ]
    },
    {
      "cell_type": "markdown",
      "metadata": {
        "id": "IHBA1LGPpGU1",
        "colab_type": "text"
      },
      "source": [
        "## 6. _Array_ e Numpy\n",
        "\n",
        "O _array_ do Python é um tipo de dado muito específico e deve ser importado. Ele aceita apenas valores do mesmo tipo, então consegue armazenar e processar esses dados de forma mais eficiente que listas."
      ]
    },
    {
      "cell_type": "code",
      "metadata": {
        "id": "WiP1QBm2pStn",
        "colab_type": "code",
        "colab": {
          "base_uri": "https://localhost:8080/",
          "height": 34
        },
        "outputId": "c5864e60-3807-4951-8d0c-b703aaac4519"
      },
      "source": [
        "import array as arr\n",
        "\n",
        "arr.array('d', [1, 3.5]) # inicializa um array do tipo 'numero de ponto flutuante' (double)"
      ],
      "execution_count": 65,
      "outputs": [
        {
          "output_type": "execute_result",
          "data": {
            "text/plain": [
              "array('d', [1.0, 3.5])"
            ]
          },
          "metadata": {
            "tags": []
          },
          "execution_count": 65
        }
      ]
    },
    {
      "cell_type": "markdown",
      "metadata": {
        "id": "T3NChBT2r0uS",
        "colab_type": "text"
      },
      "source": [
        "Quando o objetivo é alcançar o melhor desempenho em processamento de funçoes matemáticas usamos os _arrays_ da biblioteca **Numpy**, que também deve ser importada.\n",
        "\n",
        "No Google Colab ou Anaconda não é necessário fazer a instalação pelo **pip**."
      ]
    },
    {
      "cell_type": "code",
      "metadata": {
        "id": "cCcVMfzqssDm",
        "colab_type": "code",
        "colab": {
          "base_uri": "https://localhost:8080/",
          "height": 34
        },
        "outputId": "07366fc3-996a-4fa6-8dae-5317bd82e397"
      },
      "source": [
        "!pip install numpy"
      ],
      "execution_count": 66,
      "outputs": [
        {
          "output_type": "stream",
          "text": [
            "Requirement already satisfied: numpy in /usr/local/lib/python3.6/dist-packages (1.18.5)\n"
          ],
          "name": "stdout"
        }
      ]
    },
    {
      "cell_type": "code",
      "metadata": {
        "id": "isavm5o1szQj",
        "colab_type": "code",
        "colab": {
          "base_uri": "https://localhost:8080/",
          "height": 34
        },
        "outputId": "a7e3efce-f4b4-4a0a-b0eb-6f57c913487f"
      },
      "source": [
        "import numpy as np\n",
        "\n",
        "numeros = np.array([1, 3.5])\n",
        "numeros"
      ],
      "execution_count": 67,
      "outputs": [
        {
          "output_type": "execute_result",
          "data": {
            "text/plain": [
              "array([1. , 3.5])"
            ]
          },
          "metadata": {
            "tags": []
          },
          "execution_count": 67
        }
      ]
    },
    {
      "cell_type": "code",
      "metadata": {
        "id": "vfLKHaxltZPW",
        "colab_type": "code",
        "colab": {
          "base_uri": "https://localhost:8080/",
          "height": 34
        },
        "outputId": "7bd4c0d1-8cd1-40c5-b2a3-467a6904c1c3"
      },
      "source": [
        "numeros = numeros + 3\n",
        "numeros"
      ],
      "execution_count": 68,
      "outputs": [
        {
          "output_type": "execute_result",
          "data": {
            "text/plain": [
              "array([4. , 6.5])"
            ]
          },
          "metadata": {
            "tags": []
          },
          "execution_count": 68
        }
      ]
    },
    {
      "cell_type": "markdown",
      "metadata": {
        "id": "LM8OfJ_UtfFD",
        "colab_type": "text"
      },
      "source": [
        "Na prática, quando se trata de processamento matemático não é recomendável usar _arrays_ puros (do Python), mas sim o Numpy, que já vem com vários métodos implementados."
      ]
    },
    {
      "cell_type": "markdown",
      "metadata": {
        "id": "nmQfWus0NOjz",
        "colab_type": "text"
      },
      "source": [
        "## 7. Igualdade e o `__eq__`\n",
        "\n",
        "Criando uma classe para representar outro tipo de conta, vamos avaliar a igualdade sem definir o método `__eq__`:"
      ]
    },
    {
      "cell_type": "code",
      "metadata": {
        "id": "scOMyCeNNPXt",
        "colab_type": "code",
        "colab": {}
      },
      "source": [
        "class ContaSalario:\n",
        "\n",
        "  def __init__(self, codigo):\n",
        "    self._codigo = codigo\n",
        "    self._saldo = 0\n",
        "\n",
        "  def __eq__(self, outro):\n",
        "    return self._codigo == outro._codigo\n",
        "    \n",
        "  def deposita(self, valor):\n",
        "    self._saldo += valor\n",
        "    return self\n",
        "\n",
        "  def __str__(self):\n",
        "    return \"\\t=> Codigo {}\\tSaldo {}\\t\".format(self._codigo, self._saldo)"
      ],
      "execution_count": 78,
      "outputs": []
    },
    {
      "cell_type": "code",
      "metadata": {
        "id": "bv6n6ruDPPCf",
        "colab_type": "code",
        "colab": {
          "base_uri": "https://localhost:8080/",
          "height": 52
        },
        "outputId": "9637be85-f195-4827-c80e-de4f45665c9a"
      },
      "source": [
        "conta1 = ContaSalario(9)\n",
        "conta2 = ContaSalario(9)\n",
        "print(f\"{conta1}\\n{conta2}\")"
      ],
      "execution_count": 73,
      "outputs": [
        {
          "output_type": "stream",
          "text": [
            "\t=> Codigo 9\tSaldo 0\t\n",
            "\t=> Codigo 9\tSaldo 0\t\n"
          ],
          "name": "stdout"
        }
      ]
    },
    {
      "cell_type": "code",
      "metadata": {
        "id": "dETNRXnxRGNe",
        "colab_type": "code",
        "colab": {
          "base_uri": "https://localhost:8080/",
          "height": 69
        },
        "outputId": "d65bd7d9-88d6-497b-9005-5189851bff80"
      },
      "source": [
        "print(f\"{conta1 in [conta1]}\\n{conta2 in [conta1]}\\n{conta1 == conta2}\")"
      ],
      "execution_count": 79,
      "outputs": [
        {
          "output_type": "stream",
          "text": [
            "True\n",
            "False\n",
            "False\n"
          ],
          "name": "stdout"
        }
      ]
    },
    {
      "cell_type": "markdown",
      "metadata": {
        "id": "WBVh-RS4P0AK",
        "colab_type": "text"
      },
      "source": [
        "As duas contas possuem o mesmo código, mas obiviamente vão retornar `False` nessa comparação pois representam diferentes objetos que apenas foram instânciados com o mesmo código.\n",
        "\n",
        "Como não foi definido o método `__eq__` na classe, a única forma de essa avaliação retornar verdadeira seria se as duas representações apontassem para o mesmo objeto na memória. O que está sendo avaliado na igualdade é o objeto todo (endereço de memória?) e não um atributo específico.\n",
        "\n",
        "Se eu quiser que essa avaliação de igualdede seja em função do código da conta preciso especificar isso no método `__eq__`."
      ]
    },
    {
      "cell_type": "code",
      "metadata": {
        "id": "FvY4yqtDSGzw",
        "colab_type": "code",
        "colab": {
          "base_uri": "https://localhost:8080/",
          "height": 34
        },
        "outputId": "71698e49-cda7-42b8-a44c-04271a9776ef"
      },
      "source": [
        "conta1 = ContaSalario(9)\n",
        "conta2 = ContaSalario(9)\n",
        "conta1 == conta2"
      ],
      "execution_count": 80,
      "outputs": [
        {
          "output_type": "execute_result",
          "data": {
            "text/plain": [
              "True"
            ]
          },
          "metadata": {
            "tags": []
          },
          "execution_count": 80
        }
      ]
    },
    {
      "cell_type": "code",
      "metadata": {
        "id": "5i1SfgVdSgYF",
        "colab_type": "code",
        "colab": {
          "base_uri": "https://localhost:8080/",
          "height": 34
        },
        "outputId": "782e33f5-bb7f-4b44-edf9-402867536d71"
      },
      "source": [
        "conta1 in [conta1]"
      ],
      "execution_count": 81,
      "outputs": [
        {
          "output_type": "execute_result",
          "data": {
            "text/plain": [
              "True"
            ]
          },
          "metadata": {
            "tags": []
          },
          "execution_count": 81
        }
      ]
    },
    {
      "cell_type": "code",
      "metadata": {
        "id": "wd0I0UsvSkm9",
        "colab_type": "code",
        "colab": {
          "base_uri": "https://localhost:8080/",
          "height": 34
        },
        "outputId": "62072459-eacf-4ad2-ca0b-ae4c58c5cb9d"
      },
      "source": [
        "conta2 in [conta1]"
      ],
      "execution_count": 82,
      "outputs": [
        {
          "output_type": "execute_result",
          "data": {
            "text/plain": [
              "True"
            ]
          },
          "metadata": {
            "tags": []
          },
          "execution_count": 82
        }
      ]
    },
    {
      "cell_type": "markdown",
      "metadata": {
        "id": "RxDQGd2fTB9z",
        "colab_type": "text"
      },
      "source": [
        "Podemos refinar o método `__eq__` comparando todos os atributos da classe ou até mesmo antes disso, comparando se o tipo é o mesmo. Dessa forma, se eu fizer um deposito em apenas umas das contas elas deixam de ser avaliadas como iguais e muito menos corro o risco de avaliar como iguais duas instâncias de classes diferentes que podem ter os mesmos atributos."
      ]
    },
    {
      "cell_type": "code",
      "metadata": {
        "id": "8ZB4ezY3UNvf",
        "colab_type": "code",
        "colab": {}
      },
      "source": [
        "class ContaSalario:\n",
        "\n",
        "  def __init__(self, codigo):\n",
        "    self._codigo = codigo\n",
        "    self._saldo = 0\n",
        "\n",
        "  def __eq__(self, outro):\n",
        "    if type(outro) != ContaSalario:\n",
        "      return False\n",
        "\n",
        "    return self._codigo == outro._codigo and self._saldo == outro._saldo\n",
        "    \n",
        "  def deposita(self, valor):\n",
        "    self._saldo += valor\n",
        "    return self\n",
        "\n",
        "  def __str__(self):\n",
        "    return \"\\t=> Codigo {}\\tSaldo {}\\t\".format(self._codigo, self._saldo)"
      ],
      "execution_count": 100,
      "outputs": []
    },
    {
      "cell_type": "code",
      "metadata": {
        "id": "nMI_bWn6UlgB",
        "colab_type": "code",
        "colab": {
          "base_uri": "https://localhost:8080/",
          "height": 34
        },
        "outputId": "135c0c17-af6e-4975-d384-5781e47f50de"
      },
      "source": [
        "conta1 = ContaSalario(14)\n",
        "conta2 = ContaCorrente(14)\n",
        "conta1 == conta2"
      ],
      "execution_count": 101,
      "outputs": [
        {
          "output_type": "execute_result",
          "data": {
            "text/plain": [
              "False"
            ]
          },
          "metadata": {
            "tags": []
          },
          "execution_count": 101
        }
      ]
    },
    {
      "cell_type": "markdown",
      "metadata": {
        "id": "aaNcnAJxWENI",
        "colab_type": "text"
      },
      "source": [
        "É possível ser ainda mais genérico e comparar de acordo com a classa mãe. Tomando como exemplo as classes `Conta` e `ContaCorrente`, que extende a primeira:"
      ]
    },
    {
      "cell_type": "code",
      "metadata": {
        "id": "xmZbdBnSVEiw",
        "colab_type": "code",
        "colab": {
          "base_uri": "https://localhost:8080/",
          "height": 34
        },
        "outputId": "3029808d-5dfb-4f92-b695-3b356b7778cd"
      },
      "source": [
        "isinstance(ContaCorrente(2), ContaCorrente)"
      ],
      "execution_count": 103,
      "outputs": [
        {
          "output_type": "execute_result",
          "data": {
            "text/plain": [
              "True"
            ]
          },
          "metadata": {
            "tags": []
          },
          "execution_count": 103
        }
      ]
    },
    {
      "cell_type": "code",
      "metadata": {
        "id": "U8g3oI2zW9BH",
        "colab_type": "code",
        "colab": {
          "base_uri": "https://localhost:8080/",
          "height": 34
        },
        "outputId": "95bfcb48-b05d-43bf-f8df-5a3291f3d927"
      },
      "source": [
        "isinstance(ContaCorrente(2), Conta)"
      ],
      "execution_count": 104,
      "outputs": [
        {
          "output_type": "execute_result",
          "data": {
            "text/plain": [
              "True"
            ]
          },
          "metadata": {
            "tags": []
          },
          "execution_count": 104
        }
      ]
    },
    {
      "cell_type": "code",
      "metadata": {
        "id": "ELAVZvyyXAiZ",
        "colab_type": "code",
        "colab": {
          "base_uri": "https://localhost:8080/",
          "height": 34
        },
        "outputId": "7b723845-8c7c-4836-c99f-b5811fcc836a"
      },
      "source": [
        "isinstance(ContaCorrente(2), ContaSalario)"
      ],
      "execution_count": 105,
      "outputs": [
        {
          "output_type": "execute_result",
          "data": {
            "text/plain": [
              "False"
            ]
          },
          "metadata": {
            "tags": []
          },
          "execution_count": 105
        }
      ]
    },
    {
      "cell_type": "markdown",
      "metadata": {
        "id": "s8-TwdvfYdxW",
        "colab_type": "text"
      },
      "source": [
        "## 8. Outras _built in functions_ "
      ]
    },
    {
      "cell_type": "code",
      "metadata": {
        "id": "iehrktPDYsdo",
        "colab_type": "code",
        "colab": {
          "base_uri": "https://localhost:8080/",
          "height": 156
        },
        "outputId": "d8135ad7-a8d6-4698-d964-5c95267ceed7"
      },
      "source": [
        "# obter os indices de cada idade\n",
        "idades = [13, 67, 34, 25, 32, 83, 44, 19]\n",
        "\n",
        "for i in range(len(idades)):\n",
        "  print(i, idades[i])"
      ],
      "execution_count": 109,
      "outputs": [
        {
          "output_type": "stream",
          "text": [
            "0 13\n",
            "1 67\n",
            "2 34\n",
            "3 25\n",
            "4 32\n",
            "5 83\n",
            "6 44\n",
            "7 19\n"
          ],
          "name": "stdout"
        }
      ]
    },
    {
      "cell_type": "code",
      "metadata": {
        "id": "HzzHc5wNaSdt",
        "colab_type": "code",
        "colab": {
          "base_uri": "https://localhost:8080/",
          "height": 34
        },
        "outputId": "f5dd90d9-78b2-457b-fc07-f4a4882ea92e"
      },
      "source": [
        "range(len(idades)) # isso não é uma lista é um iterável, lazy..."
      ],
      "execution_count": 110,
      "outputs": [
        {
          "output_type": "execute_result",
          "data": {
            "text/plain": [
              "range(0, 8)"
            ]
          },
          "metadata": {
            "tags": []
          },
          "execution_count": 110
        }
      ]
    },
    {
      "cell_type": "code",
      "metadata": {
        "id": "Upo82ZnFaXD5",
        "colab_type": "code",
        "colab": {
          "base_uri": "https://localhost:8080/",
          "height": 34
        },
        "outputId": "0730d390-d530-416a-dc13-004f803d4db0"
      },
      "source": [
        "list(range(len(idades)))"
      ],
      "execution_count": 113,
      "outputs": [
        {
          "output_type": "execute_result",
          "data": {
            "text/plain": [
              "[0, 1, 2, 3, 4, 5, 6, 7]"
            ]
          },
          "metadata": {
            "tags": []
          },
          "execution_count": 113
        }
      ]
    },
    {
      "cell_type": "code",
      "metadata": {
        "id": "ge-v3Ex6ag9n",
        "colab_type": "code",
        "colab": {
          "base_uri": "https://localhost:8080/",
          "height": 34
        },
        "outputId": "083fe6de-d8a9-479a-9dc7-7453ad593383"
      },
      "source": [
        "[range(len(idades))]"
      ],
      "execution_count": 114,
      "outputs": [
        {
          "output_type": "execute_result",
          "data": {
            "text/plain": [
              "[range(0, 8)]"
            ]
          },
          "metadata": {
            "tags": []
          },
          "execution_count": 114
        }
      ]
    },
    {
      "cell_type": "code",
      "metadata": {
        "id": "VO8HXEksaAjq",
        "colab_type": "code",
        "colab": {
          "base_uri": "https://localhost:8080/",
          "height": 34
        },
        "outputId": "500ea37f-952e-4e89-c988-65d1b7dcf306"
      },
      "source": [
        "enumerate(idades) # iterável, lazy"
      ],
      "execution_count": 108,
      "outputs": [
        {
          "output_type": "execute_result",
          "data": {
            "text/plain": [
              "<enumerate at 0x7f70f19b9e10>"
            ]
          },
          "metadata": {
            "tags": []
          },
          "execution_count": 108
        }
      ]
    },
    {
      "cell_type": "code",
      "metadata": {
        "id": "Kdd8wsp6anCn",
        "colab_type": "code",
        "colab": {
          "base_uri": "https://localhost:8080/",
          "height": 34
        },
        "outputId": "6ce59e0a-0c9a-48de-bc14-4c064db4286b"
      },
      "source": [
        "list(enumerate(idades))"
      ],
      "execution_count": 115,
      "outputs": [
        {
          "output_type": "execute_result",
          "data": {
            "text/plain": [
              "[(0, 13), (1, 67), (2, 34), (3, 25), (4, 32), (5, 83), (6, 44), (7, 19)]"
            ]
          },
          "metadata": {
            "tags": []
          },
          "execution_count": 115
        }
      ]
    },
    {
      "cell_type": "code",
      "metadata": {
        "id": "OtXerHfOa0BP",
        "colab_type": "code",
        "colab": {
          "base_uri": "https://localhost:8080/",
          "height": 156
        },
        "outputId": "7de0560d-fff6-4ae9-8e33-1a6409071bf1"
      },
      "source": [
        "for valor in enumerate(idades):\n",
        "  print(valor)"
      ],
      "execution_count": 116,
      "outputs": [
        {
          "output_type": "stream",
          "text": [
            "(0, 13)\n",
            "(1, 67)\n",
            "(2, 34)\n",
            "(3, 25)\n",
            "(4, 32)\n",
            "(5, 83)\n",
            "(6, 44)\n",
            "(7, 19)\n"
          ],
          "name": "stdout"
        }
      ]
    },
    {
      "cell_type": "code",
      "metadata": {
        "id": "DwAtsXmcbF3H",
        "colab_type": "code",
        "colab": {
          "base_uri": "https://localhost:8080/",
          "height": 156
        },
        "outputId": "9f6fc646-a74a-45a7-861f-bbdf691854d6"
      },
      "source": [
        "# desempacotamento da tupla\n",
        "for indice, idade in enumerate(idades):\n",
        "  print(indice, 'x', idade)"
      ],
      "execution_count": 117,
      "outputs": [
        {
          "output_type": "stream",
          "text": [
            "0 x 13\n",
            "1 x 67\n",
            "2 x 34\n",
            "3 x 25\n",
            "4 x 32\n",
            "5 x 83\n",
            "6 x 44\n",
            "7 x 19\n"
          ],
          "name": "stdout"
        }
      ]
    },
    {
      "cell_type": "code",
      "metadata": {
        "id": "pQAfgBOJbpNo",
        "colab_type": "code",
        "colab": {
          "base_uri": "https://localhost:8080/",
          "height": 69
        },
        "outputId": "7ce93840-2978-4600-94e7-6cd8320e76f2"
      },
      "source": [
        "# caso em que quero apenas um dos valores das tuplas\n",
        "usuarios = [\n",
        "            (\"Bruno\", 27, 1993),\n",
        "            (\"Bruna\", 25, 1995),\n",
        "            (\"Breno\", 31, 1999)\n",
        "]\n",
        "\n",
        "# desempacota todos os valores da tupla\n",
        "for nome, idade, nascimento in usuarios:\n",
        "  print(nome)"
      ],
      "execution_count": 118,
      "outputs": [
        {
          "output_type": "stream",
          "text": [
            "Bruno\n",
            "Bruna\n",
            "Breno\n"
          ],
          "name": "stdout"
        }
      ]
    },
    {
      "cell_type": "code",
      "metadata": {
        "id": "85zIItk1chdj",
        "colab_type": "code",
        "colab": {
          "base_uri": "https://localhost:8080/",
          "height": 69
        },
        "outputId": "fc2b8b36-7e58-42c6-c5d6-61de6c381a15"
      },
      "source": [
        "# desempacota os valores da tupla e ignorando o que não vou usar\n",
        "for nome, _, _ in usuarios:\n",
        "  print(nome)"
      ],
      "execution_count": 119,
      "outputs": [
        {
          "output_type": "stream",
          "text": [
            "Bruno\n",
            "Bruna\n",
            "Breno\n"
          ],
          "name": "stdout"
        }
      ]
    },
    {
      "cell_type": "markdown",
      "metadata": {
        "id": "_JW9swCohZtv",
        "colab_type": "text"
      },
      "source": [
        "## 9. Ordenação"
      ]
    },
    {
      "cell_type": "markdown",
      "metadata": {
        "id": "eHoQkHQYvDPv",
        "colab_type": "text"
      },
      "source": [
        "### 9.1. Ordem natural"
      ]
    },
    {
      "cell_type": "code",
      "metadata": {
        "id": "ECHmObBth09I",
        "colab_type": "code",
        "colab": {
          "base_uri": "https://localhost:8080/",
          "height": 34
        },
        "outputId": "67fa2e44-349b-44e0-f3f6-451e0cd24d43"
      },
      "source": [
        "idades"
      ],
      "execution_count": 121,
      "outputs": [
        {
          "output_type": "execute_result",
          "data": {
            "text/plain": [
              "[13, 67, 34, 25, 32, 83, 44, 19]"
            ]
          },
          "metadata": {
            "tags": []
          },
          "execution_count": 121
        }
      ]
    },
    {
      "cell_type": "code",
      "metadata": {
        "id": "ra_9MiTMiC1F",
        "colab_type": "code",
        "colab": {
          "base_uri": "https://localhost:8080/",
          "height": 34
        },
        "outputId": "d86f53eb-039c-4bc7-c639-ff05d456d472"
      },
      "source": [
        "# ordena do menor para o maior\n",
        "sorted(idades)"
      ],
      "execution_count": 122,
      "outputs": [
        {
          "output_type": "execute_result",
          "data": {
            "text/plain": [
              "[13, 19, 25, 32, 34, 44, 67, 83]"
            ]
          },
          "metadata": {
            "tags": []
          },
          "execution_count": 122
        }
      ]
    },
    {
      "cell_type": "code",
      "metadata": {
        "id": "EKnwBPRAii90",
        "colab_type": "code",
        "colab": {
          "base_uri": "https://localhost:8080/",
          "height": 34
        },
        "outputId": "cf5814ee-f29a-438e-dc8f-060e96746e2f"
      },
      "source": [
        "# ordena do maior para o menor\n",
        "sorted(idades, reverse=True)"
      ],
      "execution_count": 125,
      "outputs": [
        {
          "output_type": "execute_result",
          "data": {
            "text/plain": [
              "[83, 67, 44, 34, 32, 25, 19, 13]"
            ]
          },
          "metadata": {
            "tags": []
          },
          "execution_count": 125
        }
      ]
    },
    {
      "cell_type": "code",
      "metadata": {
        "id": "S_yCRcLWiFib",
        "colab_type": "code",
        "colab": {
          "base_uri": "https://localhost:8080/",
          "height": 34
        },
        "outputId": "8eb742b0-b38b-4ddf-944b-64d5ba36d1e8"
      },
      "source": [
        "# reverte a ordem dos elementos\n",
        "reversed(idades) # retorna um iterador"
      ],
      "execution_count": 123,
      "outputs": [
        {
          "output_type": "execute_result",
          "data": {
            "text/plain": [
              "<list_reverseiterator at 0x7f70f19a0908>"
            ]
          },
          "metadata": {
            "tags": []
          },
          "execution_count": 123
        }
      ]
    },
    {
      "cell_type": "code",
      "metadata": {
        "id": "9e_CdG0KiOkf",
        "colab_type": "code",
        "colab": {
          "base_uri": "https://localhost:8080/",
          "height": 34
        },
        "outputId": "1a16f6ea-dfce-4b18-d129-944de28d3d42"
      },
      "source": [
        "list(reversed(idades))"
      ],
      "execution_count": 124,
      "outputs": [
        {
          "output_type": "execute_result",
          "data": {
            "text/plain": [
              "[19, 44, 83, 32, 25, 34, 67, 13]"
            ]
          },
          "metadata": {
            "tags": []
          },
          "execution_count": 124
        }
      ]
    },
    {
      "cell_type": "code",
      "metadata": {
        "id": "aVPYqxJgiv3Q",
        "colab_type": "code",
        "colab": {
          "base_uri": "https://localhost:8080/",
          "height": 34
        },
        "outputId": "3fff6e25-43a5-4a0c-ca87-95437aaaddc3"
      },
      "source": [
        "list(reversed(sorted(idades)))"
      ],
      "execution_count": 126,
      "outputs": [
        {
          "output_type": "execute_result",
          "data": {
            "text/plain": [
              "[83, 67, 44, 34, 32, 25, 19, 13]"
            ]
          },
          "metadata": {
            "tags": []
          },
          "execution_count": 126
        }
      ]
    },
    {
      "cell_type": "code",
      "metadata": {
        "id": "pMkn3GFSjF12",
        "colab_type": "code",
        "colab": {
          "base_uri": "https://localhost:8080/",
          "height": 34
        },
        "outputId": "897cc0a6-e43c-4f6e-8c8a-6e772a08687b"
      },
      "source": [
        "# os metodos acima retornam outras lista/iterador, mantem o original inauterado\n",
        "idades"
      ],
      "execution_count": 127,
      "outputs": [
        {
          "output_type": "execute_result",
          "data": {
            "text/plain": [
              "[13, 67, 34, 25, 32, 83, 44, 19]"
            ]
          },
          "metadata": {
            "tags": []
          },
          "execution_count": 127
        }
      ]
    },
    {
      "cell_type": "code",
      "metadata": {
        "id": "HifWgT4FjQGo",
        "colab_type": "code",
        "colab": {
          "base_uri": "https://localhost:8080/",
          "height": 34
        },
        "outputId": "1589cfbf-3242-4847-a135-353a6f330acf"
      },
      "source": [
        "# agora ordena a própria lista (in place)\n",
        "idades.sort()\n",
        "idades"
      ],
      "execution_count": 129,
      "outputs": [
        {
          "output_type": "execute_result",
          "data": {
            "text/plain": [
              "[13, 19, 25, 32, 34, 44, 67, 83]"
            ]
          },
          "metadata": {
            "tags": []
          },
          "execution_count": 129
        }
      ]
    },
    {
      "cell_type": "markdown",
      "metadata": {
        "id": "zsFQK7AMviE6",
        "colab_type": "text"
      },
      "source": [
        "### 9.2. Objetos sem ordem natural\n",
        "\n",
        "Números e _strings_ são tipos de dados que possuem uma ordem natural, ou seja, eles já tem uma comportamento padrão para comparações do tipo maior (`>`) e menor (`>`).\n",
        "\n",
        "Os objetos do tipo `Conta`, `ContaCorrente` ou `ContaSalario` possuem uma ordem natural."
      ]
    },
    {
      "cell_type": "code",
      "metadata": {
        "id": "pQ3wGFUxvpG4",
        "colab_type": "code",
        "colab": {}
      },
      "source": [
        "class ContaSalario:\n",
        "\n",
        "  def __init__(self, codigo):\n",
        "    self._codigo = codigo\n",
        "    self._saldo = 0\n",
        "\n",
        "  def __eq__(self, outro):\n",
        "    if not isinstance(outro, ContaSalario):\n",
        "      return False\n",
        "\n",
        "    return self._codigo == outro._codigo and self._saldo == outro._saldo\n",
        "    \n",
        "  def deposita(self, valor):\n",
        "    self._saldo += valor\n",
        "    return self\n",
        "\n",
        "  def __str__(self):\n",
        "    return \"\\t=> Codigo {}\\tSaldo {}\\t\".format(self._codigo, self._saldo)"
      ],
      "execution_count": null,
      "outputs": []
    },
    {
      "cell_type": "code",
      "metadata": {
        "id": "6Tc35nvPwYKx",
        "colab_type": "code",
        "colab": {}
      },
      "source": [
        "conta_bruno = ContaSalario(16)\n",
        "conta_bruno.deposita(300)\n",
        "\n",
        "conta_bruna = ContaSalario(13)\n",
        "conta_bruna.deposita(1000)\n",
        "\n",
        "conta_breno = ContaSalario(87)\n",
        "conta_breno.deposita(700)\n",
        "\n",
        "contas = [conta_bruno, conta_bruna, conta_breno]"
      ],
      "execution_count": 132,
      "outputs": []
    },
    {
      "cell_type": "code",
      "metadata": {
        "id": "9yNAVDdtwqlD",
        "colab_type": "code",
        "colab": {
          "base_uri": "https://localhost:8080/",
          "height": 69
        },
        "outputId": "611f85bc-db8a-48ff-aafe-2b22326f5e71"
      },
      "source": [
        "for conta in contas:\n",
        "  print(conta)"
      ],
      "execution_count": 133,
      "outputs": [
        {
          "output_type": "stream",
          "text": [
            "\t=> Codigo 16\tSaldo 300\t\n",
            "\t=> Codigo 13\tSaldo 1000\t\n",
            "\t=> Codigo 87\tSaldo 700\t\n"
          ],
          "name": "stdout"
        }
      ]
    },
    {
      "cell_type": "markdown",
      "metadata": {
        "id": "j-it_MD7yMiz",
        "colab_type": "text"
      },
      "source": [
        "Para ordenar as contas usando o método `sorted()`, sem modificar a classe, precisamos definir uma \"chave\" (`key`). Assim a comparação vai ser feita em função do valor retornado pela função passada no parâmetro `key`. Você pode implementar qualquer lógica nessa função, desde que o objeto seja reduzido a um valor comparável, neste caso a função simplesmente retorna o saldo da conta.\n",
        "\n",
        "Uma observação interessante é que essa abordagem é mais utilizada com o paradigma funcional."
      ]
    },
    {
      "cell_type": "code",
      "metadata": {
        "id": "9M6-McA4xd8Z",
        "colab_type": "code",
        "colab": {
          "base_uri": "https://localhost:8080/",
          "height": 69
        },
        "outputId": "dfd95dc0-88f2-4600-d62b-400fbf2279a7"
      },
      "source": [
        "def extrai_saldo(conta):\n",
        "  return conta._saldo\n",
        "\n",
        "for conta in sorted(contas, key=extrai_saldo):\n",
        "  print(conta)"
      ],
      "execution_count": 134,
      "outputs": [
        {
          "output_type": "stream",
          "text": [
            "\t=> Codigo 16\tSaldo 300\t\n",
            "\t=> Codigo 87\tSaldo 700\t\n",
            "\t=> Codigo 13\tSaldo 1000\t\n"
          ],
          "name": "stdout"
        }
      ]
    },
    {
      "cell_type": "markdown",
      "metadata": {
        "id": "015i0YOCzqSI",
        "colab_type": "text"
      },
      "source": [
        "Nessa abordagem acabamos \"violando\" o encapsulamento da nossa classe ao acessar diretamente um atributo protegido.\n",
        "\n",
        "Neste caso, que a função apenas acessa um atributo da classe e retorna seu valor há uma outra forma de fazer isso sem precisar escrever uma função, que é usando o método `attrgetter` da biblioteca `operator`. Este método permite acessar qualquer atributo independente do seu nível de encapsulamento (público, protegido ou privado)."
      ]
    },
    {
      "cell_type": "code",
      "metadata": {
        "id": "lh3mVRqT27Kp",
        "colab_type": "code",
        "colab": {
          "base_uri": "https://localhost:8080/",
          "height": 69
        },
        "outputId": "89483339-88f4-4c71-d888-defe1e4b1a56"
      },
      "source": [
        "from operator import attrgetter\n",
        "\n",
        "for conta in sorted(contas, key=attrgetter(\"_saldo\")):\n",
        "  print(conta)"
      ],
      "execution_count": 135,
      "outputs": [
        {
          "output_type": "stream",
          "text": [
            "\t=> Codigo 16\tSaldo 300\t\n",
            "\t=> Codigo 87\tSaldo 700\t\n",
            "\t=> Codigo 13\tSaldo 1000\t\n"
          ],
          "name": "stdout"
        }
      ]
    },
    {
      "cell_type": "markdown",
      "metadata": {
        "id": "9fd3aKPu3XoY",
        "colab_type": "text"
      },
      "source": [
        "Mesmo usando o método `attrgetter` eu ainda sou obrigado a acessar diretamente algo que não deveria ser acessado dessa maneira.\n",
        "\n",
        "Para manter o encapsulamento da classe sem expor nenhum atributo diretamente, se estamos trabalhando com OO podemos implementar o método especial `__lt__` (\"_less than_\") e definir o comportamento de acordo com a lógica que eu quiser."
      ]
    },
    {
      "cell_type": "code",
      "metadata": {
        "id": "Zoa4gtzP4y9l",
        "colab_type": "code",
        "colab": {}
      },
      "source": [
        "class ContaSalario:\n",
        "\n",
        "  def __init__(self, codigo):\n",
        "    self._codigo = codigo\n",
        "    self._saldo = 0\n",
        "\n",
        "  def __str__(self):\n",
        "    return \"\\t=> Codigo {}\\tSaldo {}\\t\".format(self._codigo, self._saldo)\n",
        "\n",
        "  def __eq__(self, outro):\n",
        "    if not isinstance(outro, ContaSalario):\n",
        "      return False\n",
        "    return self._codigo == outro._codigo and self._saldo == outro._saldo\n",
        "\n",
        "  def __lt__(self, outro):\n",
        "    return self._saldo < outro._saldo\n",
        "\n",
        "  def deposita(self, valor):\n",
        "    self._saldo += valor\n",
        "    return self"
      ],
      "execution_count": 136,
      "outputs": []
    },
    {
      "cell_type": "code",
      "metadata": {
        "id": "kfF8mmjm5hHA",
        "colab_type": "code",
        "colab": {}
      },
      "source": [
        "conta_bruno = ContaSalario(169).deposita(300)\n",
        "conta_bruna = ContaSalario(13).deposita(1000)\n",
        "conta_breno = ContaSalario(87).deposita(700)\n",
        "\n",
        "contas = [conta_bruno, conta_bruna, conta_breno]"
      ],
      "execution_count": 138,
      "outputs": []
    },
    {
      "cell_type": "code",
      "metadata": {
        "id": "Xei5sfom5s4c",
        "colab_type": "code",
        "colab": {
          "base_uri": "https://localhost:8080/",
          "height": 34
        },
        "outputId": "a76b9229-b0ca-4cdc-9e78-8aceaf8e27f5"
      },
      "source": [
        "conta_bruno < conta_bruna"
      ],
      "execution_count": 139,
      "outputs": [
        {
          "output_type": "execute_result",
          "data": {
            "text/plain": [
              "True"
            ]
          },
          "metadata": {
            "tags": []
          },
          "execution_count": 139
        }
      ]
    },
    {
      "cell_type": "code",
      "metadata": {
        "id": "LVW-W-L45wRD",
        "colab_type": "code",
        "colab": {
          "base_uri": "https://localhost:8080/",
          "height": 34
        },
        "outputId": "bf36b317-00e9-49b6-823a-37fded55bd81"
      },
      "source": [
        "conta_bruno > conta_bruna"
      ],
      "execution_count": 140,
      "outputs": [
        {
          "output_type": "execute_result",
          "data": {
            "text/plain": [
              "False"
            ]
          },
          "metadata": {
            "tags": []
          },
          "execution_count": 140
        }
      ]
    },
    {
      "cell_type": "code",
      "metadata": {
        "id": "bWD4Jixs55CS",
        "colab_type": "code",
        "colab": {
          "base_uri": "https://localhost:8080/",
          "height": 69
        },
        "outputId": "209464eb-6b07-4aa1-c433-d3f38dc47d9f"
      },
      "source": [
        "for conta in sorted(contas):\n",
        "  print(conta)"
      ],
      "execution_count": 141,
      "outputs": [
        {
          "output_type": "stream",
          "text": [
            "\t=> Codigo 16\tSaldo 300\t\n",
            "\t=> Codigo 87\tSaldo 700\t\n",
            "\t=> Codigo 13\tSaldo 1000\t\n"
          ],
          "name": "stdout"
        }
      ]
    },
    {
      "cell_type": "code",
      "metadata": {
        "id": "97keY2L-6n4n",
        "colab_type": "code",
        "colab": {
          "base_uri": "https://localhost:8080/",
          "height": 69
        },
        "outputId": "97e649b6-45f8-41aa-e455-9d214715e241"
      },
      "source": [
        "for conta in sorted(contas, reverse=True):\n",
        "  print(conta)"
      ],
      "execution_count": 142,
      "outputs": [
        {
          "output_type": "stream",
          "text": [
            "\t=> Codigo 13\tSaldo 1000\t\n",
            "\t=> Codigo 87\tSaldo 700\t\n",
            "\t=> Codigo 16\tSaldo 300\t\n"
          ],
          "name": "stdout"
        }
      ]
    },
    {
      "cell_type": "markdown",
      "metadata": {
        "id": "URhoK1k3_VXt",
        "colab_type": "text"
      },
      "source": [
        "### 9.3. Ordenação em função de vários atributos\n",
        "\n",
        "Nas situações em que a comparação de um único valor não é suficiente para informar qual objeto é menor ou maior, devemos fazer uso de \"critérios de desempate\".\n",
        "\n",
        "Se estamos usando o `attrgetter()` podemos passar um segundo parâmetro para isso:"
      ]
    },
    {
      "cell_type": "code",
      "metadata": {
        "id": "zK55FcPbAWQu",
        "colab_type": "code",
        "colab": {
          "base_uri": "https://localhost:8080/",
          "height": 69
        },
        "outputId": "c534bc21-187f-433a-acaa-c71634fb5761"
      },
      "source": [
        "conta_bruno = ContaSalario(169).deposita(300)\n",
        "conta_bruna = ContaSalario(13).deposita(1000)\n",
        "conta_breno = ContaSalario(87).deposita(300)\n",
        "\n",
        "contas = [conta_bruno, conta_bruna, conta_breno]\n",
        "\n",
        "for conta in contas:\n",
        "  print(conta)"
      ],
      "execution_count": 144,
      "outputs": [
        {
          "output_type": "stream",
          "text": [
            "\t=> Codigo 169\tSaldo 300\t\n",
            "\t=> Codigo 13\tSaldo 1000\t\n",
            "\t=> Codigo 87\tSaldo 300\t\n"
          ],
          "name": "stdout"
        }
      ]
    },
    {
      "cell_type": "code",
      "metadata": {
        "id": "SY8bGH-mAcfR",
        "colab_type": "code",
        "colab": {
          "base_uri": "https://localhost:8080/",
          "height": 69
        },
        "outputId": "ae49ca27-fd86-4599-980d-cfb019347a29"
      },
      "source": [
        "for conta in sorted(contas, key=attrgetter(\"_saldo\", \"_codigo\")):\n",
        "  print(conta)"
      ],
      "execution_count": 145,
      "outputs": [
        {
          "output_type": "stream",
          "text": [
            "\t=> Codigo 87\tSaldo 300\t\n",
            "\t=> Codigo 169\tSaldo 300\t\n",
            "\t=> Codigo 13\tSaldo 1000\t\n"
          ],
          "name": "stdout"
        }
      ]
    },
    {
      "cell_type": "markdown",
      "metadata": {
        "id": "P9s-hHSRA7Zx",
        "colab_type": "text"
      },
      "source": [
        "Para adicionar este comportamento na \"ordenação natural\" da classe basta refinar um pouco o método mágico:"
      ]
    },
    {
      "cell_type": "code",
      "metadata": {
        "id": "0FlNZaTmBCpW",
        "colab_type": "code",
        "colab": {}
      },
      "source": [
        "class ContaSalario:\n",
        "\n",
        "  def __init__(self, codigo):\n",
        "    self._codigo = codigo\n",
        "    self._saldo = 0\n",
        "\n",
        "  def __str__(self):\n",
        "    return \"\\t=> Codigo {}\\tSaldo {}\\t\".format(self._codigo, self._saldo)\n",
        "\n",
        "  def __eq__(self, outro):\n",
        "    if not isinstance(outro, ContaSalario):\n",
        "      return False\n",
        "    return self._codigo == outro._codigo and self._saldo == outro._saldo\n",
        "\n",
        "  def __lt__(self, outro):\n",
        "    if self._saldo != outro._saldo:\n",
        "      return self._saldo < outro._saldo\n",
        "    return self._codigo < outro._codigo\n",
        "\n",
        "  def deposita(self, valor):\n",
        "    self._saldo += valor\n",
        "    return self"
      ],
      "execution_count": null,
      "outputs": []
    },
    {
      "cell_type": "code",
      "metadata": {
        "id": "hU_9xu0JB1pD",
        "colab_type": "code",
        "colab": {
          "base_uri": "https://localhost:8080/",
          "height": 69
        },
        "outputId": "dbbc4846-90f5-4a2c-adda-f141368bb0e8"
      },
      "source": [
        "conta_bruno = ContaSalario(169).deposita(300)\n",
        "conta_bruna = ContaSalario(13).deposita(1000)\n",
        "conta_breno = ContaSalario(87).deposita(300)\n",
        "\n",
        "contas = [conta_bruno, conta_bruna, conta_breno]\n",
        "\n",
        "for conta in contas:\n",
        "  print(conta)"
      ],
      "execution_count": 146,
      "outputs": [
        {
          "output_type": "stream",
          "text": [
            "\t=> Codigo 169\tSaldo 300\t\n",
            "\t=> Codigo 13\tSaldo 1000\t\n",
            "\t=> Codigo 87\tSaldo 300\t\n"
          ],
          "name": "stdout"
        }
      ]
    },
    {
      "cell_type": "code",
      "metadata": {
        "id": "t1JHnseGCQ-n",
        "colab_type": "code",
        "colab": {
          "base_uri": "https://localhost:8080/",
          "height": 69
        },
        "outputId": "d27806e7-9827-4d51-b370-74e4addb46d3"
      },
      "source": [
        "for conta in sorted(contas):\n",
        "  print(conta)"
      ],
      "execution_count": 147,
      "outputs": [
        {
          "output_type": "stream",
          "text": [
            "\t=> Codigo 169\tSaldo 300\t\n",
            "\t=> Codigo 87\tSaldo 300\t\n",
            "\t=> Codigo 13\tSaldo 1000\t\n"
          ],
          "name": "stdout"
        }
      ]
    },
    {
      "cell_type": "markdown",
      "metadata": {
        "id": "M_RK8CGCC6Ag",
        "colab_type": "text"
      },
      "source": [
        "### 9.4. _functools_\n",
        "\n",
        "Apesar de termos implementados dois métodos magicos para comportamentos de comparação (`__eq__` e `__lt__`) se tentarmos fazer comparações de \"menor ou igual\" ou \"maior ou igual\", perceberemos que este tipo de comparação ainda não foi definida.\n",
        "\n",
        "Para isso vamos usar o `total_ordering` da biblioteca `functools`, atráves de uma anotação (_decorator_). Para isso ter efeito precisamos que os métodos mágicos `__eq__` e `__lt__` já tenham sido implementados."
      ]
    },
    {
      "cell_type": "code",
      "metadata": {
        "id": "YC69b8pxErnO",
        "colab_type": "code",
        "colab": {}
      },
      "source": [
        "from functools import total_ordering\n",
        "\n",
        "@total_ordering\n",
        "class ContaSalario:\n",
        "\n",
        "  def __init__(self, codigo):\n",
        "    self._codigo = codigo\n",
        "    self._saldo = 0\n",
        "\n",
        "  def __str__(self):\n",
        "    return \"\\t=> Codigo {}\\tSaldo {}\\t\".format(self._codigo, self._saldo)\n",
        "\n",
        "  def __eq__(self, outro):\n",
        "    if not isinstance(outro, ContaSalario):\n",
        "      return False\n",
        "    return self._codigo == outro._codigo and self._saldo == outro._saldo\n",
        "\n",
        "  def __lt__(self, outro):\n",
        "    if self._saldo != outro._saldo:\n",
        "      return self._saldo < outro._saldo\n",
        "    return self._codigo < outro._codigo\n",
        "\n",
        "  def deposita(self, valor):\n",
        "    self._saldo += valor\n",
        "    return self"
      ],
      "execution_count": 148,
      "outputs": []
    },
    {
      "cell_type": "code",
      "metadata": {
        "id": "3VdP33cKFJ2n",
        "colab_type": "code",
        "colab": {}
      },
      "source": [
        "conta_bruno = ContaSalario(169).deposita(300)\n",
        "conta_bruna = ContaSalario(13).deposita(1000)\n",
        "conta_breno = ContaSalario(87).deposita(300)"
      ],
      "execution_count": 149,
      "outputs": []
    },
    {
      "cell_type": "code",
      "metadata": {
        "id": "WIEhoos8FL6d",
        "colab_type": "code",
        "colab": {
          "base_uri": "https://localhost:8080/",
          "height": 34
        },
        "outputId": "995839dc-97e1-4fe0-ffe5-aa613f2a037a"
      },
      "source": [
        "conta_bruno <= conta_bruna"
      ],
      "execution_count": 150,
      "outputs": [
        {
          "output_type": "execute_result",
          "data": {
            "text/plain": [
              "True"
            ]
          },
          "metadata": {
            "tags": []
          },
          "execution_count": 150
        }
      ]
    },
    {
      "cell_type": "code",
      "metadata": {
        "id": "gGJqVGK4FUHy",
        "colab_type": "code",
        "colab": {
          "base_uri": "https://localhost:8080/",
          "height": 34
        },
        "outputId": "a7d55eb4-38b3-49ef-bca0-7e405b037577"
      },
      "source": [
        "conta_bruno == conta_breno"
      ],
      "execution_count": 151,
      "outputs": [
        {
          "output_type": "execute_result",
          "data": {
            "text/plain": [
              "False"
            ]
          },
          "metadata": {
            "tags": []
          },
          "execution_count": 151
        }
      ]
    },
    {
      "cell_type": "code",
      "metadata": {
        "id": "M0jyKhfWFf0d",
        "colab_type": "code",
        "colab": {
          "base_uri": "https://localhost:8080/",
          "height": 34
        },
        "outputId": "7d765983-538f-45a6-9009-07d7d6466e35"
      },
      "source": [
        "conta_bruno >= conta_breno"
      ],
      "execution_count": 152,
      "outputs": [
        {
          "output_type": "execute_result",
          "data": {
            "text/plain": [
              "True"
            ]
          },
          "metadata": {
            "tags": []
          },
          "execution_count": 152
        }
      ]
    }
  ]
}