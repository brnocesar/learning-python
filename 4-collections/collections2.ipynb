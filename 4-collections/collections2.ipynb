{
  "nbformat": 4,
  "nbformat_minor": 0,
  "metadata": {
    "colab": {
      "name": "collections2.ipynb",
      "provenance": [],
      "collapsed_sections": [
        "aG7ZutoV66qr"
      ]
    },
    "kernelspec": {
      "name": "python3",
      "display_name": "Python 3"
    }
  },
  "cells": [
    {
      "cell_type": "markdown",
      "metadata": {
        "id": "DC2KcO6m7cI7",
        "colab_type": "text"
      },
      "source": [
        "# Collections\n",
        "\n",
        "1. Conjuntos\n",
        "2. Dicionários"
      ]
    },
    {
      "cell_type": "markdown",
      "metadata": {
        "id": "aG7ZutoV66qr",
        "colab_type": "text"
      },
      "source": [
        "## 1. Conjuntos\n",
        "\n",
        "São coleções mutáveis não ordenadas e de elementos únicos. Seu uso é recomendável quando é necessário trabalhar apenas com elementos únicos e a ordem desses elementos não é importante. Como é uma coleção não ordenada, não existe indexação dos elementos."
      ]
    },
    {
      "cell_type": "code",
      "metadata": {
        "id": "0qoGwVcdqdlI",
        "colab_type": "code",
        "colab": {}
      },
      "source": [
        "alunos_ds = [15, 23, 43, 56]\n",
        "alunos_ml = [13, 23, 56, 42]"
      ],
      "execution_count": null,
      "outputs": []
    },
    {
      "cell_type": "code",
      "metadata": {
        "id": "pU2iw_Ao6BWX",
        "colab_type": "code",
        "colab": {
          "base_uri": "https://localhost:8080/",
          "height": 34
        },
        "outputId": "f53bf4fe-64da-41f2-f45c-471b96c6873e"
      },
      "source": [
        "todos_alunos = alunos_ds.copy()\n",
        "todos_alunos"
      ],
      "execution_count": null,
      "outputs": [
        {
          "output_type": "execute_result",
          "data": {
            "text/plain": [
              "[15, 23, 43, 56]"
            ]
          },
          "metadata": {
            "tags": []
          },
          "execution_count": 8
        }
      ]
    },
    {
      "cell_type": "code",
      "metadata": {
        "id": "bGnYL37c6v02",
        "colab_type": "code",
        "colab": {
          "base_uri": "https://localhost:8080/",
          "height": 34
        },
        "outputId": "2819e40a-66d1-48ff-91a5-cbec959815a1"
      },
      "source": [
        "todos_alunos.extend(alunos_ml)\n",
        "todos_alunos"
      ],
      "execution_count": null,
      "outputs": [
        {
          "output_type": "execute_result",
          "data": {
            "text/plain": [
              "[15, 23, 43, 56, 13, 23, 56, 42]"
            ]
          },
          "metadata": {
            "tags": []
          },
          "execution_count": 9
        }
      ]
    },
    {
      "cell_type": "markdown",
      "metadata": {
        "id": "8UfdKOvD_i17",
        "colab_type": "text"
      },
      "source": [
        "Podemos obter todos os alunos únicos transformando a lista em um conjunto:"
      ]
    },
    {
      "cell_type": "code",
      "metadata": {
        "id": "Fj4ZdhaC7C48",
        "colab_type": "code",
        "colab": {
          "base_uri": "https://localhost:8080/",
          "height": 34
        },
        "outputId": "3b362ee1-204a-4057-90fe-66e5fe913d6f"
      },
      "source": [
        "# todos alunos únicos\n",
        "set(todos_alunos)"
      ],
      "execution_count": null,
      "outputs": [
        {
          "output_type": "execute_result",
          "data": {
            "text/plain": [
              "{13, 15, 23, 42, 43, 56}"
            ]
          },
          "metadata": {
            "tags": []
          },
          "execution_count": 10
        }
      ]
    },
    {
      "cell_type": "markdown",
      "metadata": {
        "id": "gEjKR45o-18G",
        "colab_type": "text"
      },
      "source": [
        "### 1.1. União e intersecção\n",
        "Uma outra forma de obter \"todos os alunos únicos\" é usando o operador `|` (que vem de \"ou\" ou \"_or_\"), que vai fazer a união dos dois conjuntos, é o \"equivalente\" ao método `extend()` das listas.\n",
        "\n",
        "Além disso, existem outras operações já definidas para os conjuntos como: a intersecção, com o operador `&`; o \"ou exclusivo\" `^`; e o `-` que remove números repetidos nos conjuntos."
      ]
    },
    {
      "cell_type": "code",
      "metadata": {
        "id": "sVzxsCIc-PwG",
        "colab_type": "code",
        "colab": {}
      },
      "source": [
        "alunos_ds = {15, 23, 43, 56}\n",
        "alunos_ml = {13, 23, 56, 42}"
      ],
      "execution_count": null,
      "outputs": []
    },
    {
      "cell_type": "code",
      "metadata": {
        "id": "wbWvmyjM-Zb9",
        "colab_type": "code",
        "colab": {
          "base_uri": "https://localhost:8080/",
          "height": 34
        },
        "outputId": "b7460ab1-9775-4eb4-8a81-ee8cffd16385"
      },
      "source": [
        "# união dos conjuntos\n",
        "alunos_ds | alunos_ml"
      ],
      "execution_count": null,
      "outputs": [
        {
          "output_type": "execute_result",
          "data": {
            "text/plain": [
              "{13, 15, 23, 42, 43, 56}"
            ]
          },
          "metadata": {
            "tags": []
          },
          "execution_count": 15
        }
      ]
    },
    {
      "cell_type": "code",
      "metadata": {
        "id": "Dg9k-Uc9A8Oo",
        "colab_type": "code",
        "colab": {
          "base_uri": "https://localhost:8080/",
          "height": 34
        },
        "outputId": "dd4b4401-f363-4e98-e48e-19f23ed0bb5b"
      },
      "source": [
        "# intersecção dos conjuntos\n",
        "alunos_ds & alunos_ml"
      ],
      "execution_count": null,
      "outputs": [
        {
          "output_type": "execute_result",
          "data": {
            "text/plain": [
              "{23, 56}"
            ]
          },
          "metadata": {
            "tags": []
          },
          "execution_count": 18
        }
      ]
    },
    {
      "cell_type": "code",
      "metadata": {
        "id": "YvGrU524C-QL",
        "colab_type": "code",
        "colab": {
          "base_uri": "https://localhost:8080/",
          "height": 34
        },
        "outputId": "82250f28-f1bd-4876-8e73-bb8dbfeecaef"
      },
      "source": [
        "# elementos que estão no primeiro conjunto\n",
        "alunos_ds - alunos_ml"
      ],
      "execution_count": null,
      "outputs": [
        {
          "output_type": "execute_result",
          "data": {
            "text/plain": [
              "{15, 43}"
            ]
          },
          "metadata": {
            "tags": []
          },
          "execution_count": 19
        }
      ]
    },
    {
      "cell_type": "code",
      "metadata": {
        "id": "ZMHYoaRPEUQG",
        "colab_type": "code",
        "colab": {
          "base_uri": "https://localhost:8080/",
          "height": 34
        },
        "outputId": "cb86bd61-42ac-4674-cdf9-9cec80ad44cd"
      },
      "source": [
        "alunos_ml - alunos_ds"
      ],
      "execution_count": null,
      "outputs": [
        {
          "output_type": "execute_result",
          "data": {
            "text/plain": [
              "{13, 42}"
            ]
          },
          "metadata": {
            "tags": []
          },
          "execution_count": 21
        }
      ]
    },
    {
      "cell_type": "code",
      "metadata": {
        "id": "j1gSyLBVC-zG",
        "colab_type": "code",
        "colab": {
          "base_uri": "https://localhost:8080/",
          "height": 34
        },
        "outputId": "7fe6e375-58cd-4e4e-8a16-bfbfed0eb3bb"
      },
      "source": [
        "# elementos que não estão nos dois conjuntos\n",
        "alunos_ds ^ alunos_ml"
      ],
      "execution_count": null,
      "outputs": [
        {
          "output_type": "execute_result",
          "data": {
            "text/plain": [
              "{13, 15, 42, 43}"
            ]
          },
          "metadata": {
            "tags": []
          },
          "execution_count": 20
        }
      ]
    },
    {
      "cell_type": "markdown",
      "metadata": {
        "id": "KYmVPSukLy4r",
        "colab_type": "text"
      },
      "source": [
        "### 1.2. Conjuntos imutáveis\n",
        "\n",
        "Como os conjuntos são mutáveis, podemos adicionar e remover elementos. A adição só será feita se o elemento ainda não existir no conjunto. Para remover podemos usar o `pop()` que remove qualque elemento ou o `remove()` que precisa receber um elemento que esteja no conjunto."
      ]
    },
    {
      "cell_type": "code",
      "metadata": {
        "id": "Y3-JU6nJMUvm",
        "colab_type": "code",
        "colab": {
          "base_uri": "https://localhost:8080/",
          "height": 34
        },
        "outputId": "3851b545-d61c-478d-9e1e-6bcdb7814cce"
      },
      "source": [
        "usuarios = {1, 5, 7, 13}\n",
        "usuarios"
      ],
      "execution_count": null,
      "outputs": [
        {
          "output_type": "execute_result",
          "data": {
            "text/plain": [
              "{1, 5, 7, 13}"
            ]
          },
          "metadata": {
            "tags": []
          },
          "execution_count": 22
        }
      ]
    },
    {
      "cell_type": "code",
      "metadata": {
        "id": "inEqRC2KMlH9",
        "colab_type": "code",
        "colab": {
          "base_uri": "https://localhost:8080/",
          "height": 34
        },
        "outputId": "8a46ca2e-6026-4b4d-c9f1-6b41fcf2889f"
      },
      "source": [
        "usuarios.add(24)\n",
        "usuarios"
      ],
      "execution_count": null,
      "outputs": [
        {
          "output_type": "execute_result",
          "data": {
            "text/plain": [
              "{1, 5, 7, 13, 24}"
            ]
          },
          "metadata": {
            "tags": []
          },
          "execution_count": 24
        }
      ]
    },
    {
      "cell_type": "code",
      "metadata": {
        "id": "Z7CrK0BIMpc6",
        "colab_type": "code",
        "colab": {
          "base_uri": "https://localhost:8080/",
          "height": 34
        },
        "outputId": "df76d59c-4814-4cdc-f7dc-02b072a5c246"
      },
      "source": [
        "# remove qualquer elemento\n",
        "usuarios.pop()\n",
        "usuarios"
      ],
      "execution_count": null,
      "outputs": [
        {
          "output_type": "execute_result",
          "data": {
            "text/plain": [
              "{5, 7, 13, 24}"
            ]
          },
          "metadata": {
            "tags": []
          },
          "execution_count": 26
        }
      ]
    },
    {
      "cell_type": "code",
      "metadata": {
        "id": "gWNHOVdENNat",
        "colab_type": "code",
        "colab": {
          "base_uri": "https://localhost:8080/",
          "height": 34
        },
        "outputId": "549e8c70-3779-43ec-c261-69dd7864cb1a"
      },
      "source": [
        "if 5 in usuarios:\n",
        "  usuarios.remove(5)\n",
        "usuarios"
      ],
      "execution_count": null,
      "outputs": [
        {
          "output_type": "execute_result",
          "data": {
            "text/plain": [
              "{7, 13, 24}"
            ]
          },
          "metadata": {
            "tags": []
          },
          "execution_count": 28
        }
      ]
    },
    {
      "cell_type": "markdown",
      "metadata": {
        "id": "Kf7EsVmQMbgv",
        "colab_type": "text"
      },
      "source": [
        "Se estivermos numa situação em que precisamos usar um conjunto mas ele não deve ser modificado, podemos usar um `frozenset()`, que vai retornar um outro conjunto, este imutável, que não aceita novos elementos e nem permite retirá-los:"
      ]
    },
    {
      "cell_type": "code",
      "metadata": {
        "id": "UEapukWpN_-6",
        "colab_type": "code",
        "colab": {
          "base_uri": "https://localhost:8080/",
          "height": 34
        },
        "outputId": "5b5b9a7d-8799-4dc5-a831-e8837a3c0b8b"
      },
      "source": [
        "usuarios_congelados = frozenset(usuarios)\n",
        "usuarios_congelados"
      ],
      "execution_count": null,
      "outputs": [
        {
          "output_type": "execute_result",
          "data": {
            "text/plain": [
              "frozenset({7, 13, 24})"
            ]
          },
          "metadata": {
            "tags": []
          },
          "execution_count": 30
        }
      ]
    },
    {
      "cell_type": "markdown",
      "metadata": {
        "id": "8m5ZLw5bRZ3f",
        "colab_type": "text"
      },
      "source": [
        "### 1.3. Outros tipos dentro de conjuntos\n",
        "\n",
        "Podemos armazenar todos os tipos dentro de conjuntos. Veja o exemplo de objetos, note que é criada uma lista com três variáveis, duas delas apontando para o mesmo objeto. Quando criamos um conjunto a partir da lista verificamos que apenas as variáveis que apontavam para diferentes objetos são mantidas."
      ]
    },
    {
      "cell_type": "code",
      "metadata": {
        "id": "5T96_9nrREks",
        "colab_type": "code",
        "colab": {
          "base_uri": "https://localhost:8080/",
          "height": 34
        },
        "outputId": "1601e4dc-1ccd-4fca-f001-118e092c7ccd"
      },
      "source": [
        "class Teste:\n",
        "  pass\n",
        "\n",
        "teste1 = Teste()\n",
        "teste1"
      ],
      "execution_count": null,
      "outputs": [
        {
          "output_type": "execute_result",
          "data": {
            "text/plain": [
              "<__main__.Teste at 0x7fa2a6a2d828>"
            ]
          },
          "metadata": {
            "tags": []
          },
          "execution_count": 32
        }
      ]
    },
    {
      "cell_type": "code",
      "metadata": {
        "id": "soBLTm96ROmN",
        "colab_type": "code",
        "colab": {
          "base_uri": "https://localhost:8080/",
          "height": 34
        },
        "outputId": "1a986b90-3520-4052-ba13-06fa32e6d287"
      },
      "source": [
        "teste2 = teste1\n",
        "teste2"
      ],
      "execution_count": null,
      "outputs": [
        {
          "output_type": "execute_result",
          "data": {
            "text/plain": [
              "<__main__.Teste at 0x7fa2a6a2d828>"
            ]
          },
          "metadata": {
            "tags": []
          },
          "execution_count": 35
        }
      ]
    },
    {
      "cell_type": "code",
      "metadata": {
        "id": "Hpt6ZI02R33g",
        "colab_type": "code",
        "colab": {
          "base_uri": "https://localhost:8080/",
          "height": 69
        },
        "outputId": "03ba3be8-c474-4388-f25d-f396979e92a7"
      },
      "source": [
        "objetos_teste = [teste1, teste2, Teste()]\n",
        "objetos_teste"
      ],
      "execution_count": null,
      "outputs": [
        {
          "output_type": "execute_result",
          "data": {
            "text/plain": [
              "[<__main__.Teste at 0x7fa2a6a2d828>,\n",
              " <__main__.Teste at 0x7fa2a6a2d828>,\n",
              " <__main__.Teste at 0x7fa2a69c6c18>]"
            ]
          },
          "metadata": {
            "tags": []
          },
          "execution_count": 42
        }
      ]
    },
    {
      "cell_type": "code",
      "metadata": {
        "id": "_qEBAvz3RUCl",
        "colab_type": "code",
        "colab": {
          "base_uri": "https://localhost:8080/",
          "height": 34
        },
        "outputId": "7c285533-f3e1-4975-f313-2d53ad930598"
      },
      "source": [
        "set(objetos_teste)"
      ],
      "execution_count": null,
      "outputs": [
        {
          "output_type": "execute_result",
          "data": {
            "text/plain": [
              "{<__main__.Teste at 0x7fa2a69c6c18>, <__main__.Teste at 0x7fa2a6a2d828>}"
            ]
          },
          "metadata": {
            "tags": []
          },
          "execution_count": 43
        }
      ]
    },
    {
      "cell_type": "markdown",
      "metadata": {
        "id": "26Du9spKS0Qf",
        "colab_type": "text"
      },
      "source": [
        "Um outro exemplo é com _strings_. Vamos quebrar a _string_ abaixo usando \"um espaço em branco\" como delimitador e filtrar todas as palavras únicas:"
      ]
    },
    {
      "cell_type": "code",
      "metadata": {
        "id": "-8haFDo1RmCW",
        "colab_type": "code",
        "colab": {
          "base_uri": "https://localhost:8080/",
          "height": 35
        },
        "outputId": "0f912d86-5100-42ff-fdc4-5715dd3a9e86"
      },
      "source": [
        "frase = \"meu nome é Bruno e este é um nome muito comum tem muitas pessoas com nome Bruno e eu gosto do meu nome\"\n",
        "frase"
      ],
      "execution_count": null,
      "outputs": [
        {
          "output_type": "execute_result",
          "data": {
            "application/vnd.google.colaboratory.intrinsic+json": {
              "type": "string"
            },
            "text/plain": [
              "'meu nome é Bruno e este é um nome muito comum tem muitas pessoas com nome Bruno e eu gosto do meu nome'"
            ]
          },
          "metadata": {
            "tags": []
          },
          "execution_count": 48
        }
      ]
    },
    {
      "cell_type": "code",
      "metadata": {
        "id": "KI8AGbDOT73H",
        "colab_type": "code",
        "colab": {
          "base_uri": "https://localhost:8080/",
          "height": 295
        },
        "outputId": "b33dc865-5bff-4aae-b59e-a1e63f8a2801"
      },
      "source": [
        "set(frase.split())"
      ],
      "execution_count": null,
      "outputs": [
        {
          "output_type": "execute_result",
          "data": {
            "text/plain": [
              "{'Bruno',\n",
              " 'com',\n",
              " 'comum',\n",
              " 'do',\n",
              " 'e',\n",
              " 'este',\n",
              " 'eu',\n",
              " 'gosto',\n",
              " 'meu',\n",
              " 'muitas',\n",
              " 'muito',\n",
              " 'nome',\n",
              " 'pessoas',\n",
              " 'tem',\n",
              " 'um',\n",
              " 'é'}"
            ]
          },
          "metadata": {
            "tags": []
          },
          "execution_count": 49
        }
      ]
    },
    {
      "cell_type": "markdown",
      "metadata": {
        "id": "0DpRgcYcUGqq",
        "colab_type": "text"
      },
      "source": [
        "## 2. Dicionários\n",
        "\n",
        "Vamos continuar com o exemplo da frase. Digamos que eu quero contar o número de aparições de cada palavra na frase. Um tipo de coleção muito indicada para isso é o dicionário, pois ele permite \"mapear\" elementos através de chaves, nesse caso podemos mapear o número de aparições para cada palavra.\n",
        "\n",
        "Seu funcionamento é muito similar aos _arrays_ associativos que encontramos em outras linguagens, como o PHP por exemplo."
      ]
    },
    {
      "cell_type": "code",
      "metadata": {
        "id": "l5aGoLsuWCf8",
        "colab_type": "code",
        "colab": {
          "base_uri": "https://localhost:8080/",
          "height": 34
        },
        "outputId": "a79308b3-cc3e-4490-b5de-1b6480ec7ca7"
      },
      "source": [
        "aparicoes = {\n",
        "    \"meu\": 2,\n",
        "    \"nome\": 4,\n",
        "    \"é\": 2,\n",
        "    \"Bruno\": 3\n",
        "}\n",
        "aparicoes"
      ],
      "execution_count": null,
      "outputs": [
        {
          "output_type": "execute_result",
          "data": {
            "text/plain": [
              "{'Bruno': 3, 'meu': 2, 'nome': 4, 'é': 2}"
            ]
          },
          "metadata": {
            "tags": []
          },
          "execution_count": 56
        }
      ]
    },
    {
      "cell_type": "code",
      "metadata": {
        "id": "GuX6sVrbXG7v",
        "colab_type": "code",
        "colab": {
          "base_uri": "https://localhost:8080/",
          "height": 34
        },
        "outputId": "2d5f50e8-76cd-4e42-f07d-56de6ee1735b"
      },
      "source": [
        "aparicoes[\"Bruno\"]"
      ],
      "execution_count": null,
      "outputs": [
        {
          "output_type": "execute_result",
          "data": {
            "text/plain": [
              "3"
            ]
          },
          "metadata": {
            "tags": []
          },
          "execution_count": 52
        }
      ]
    },
    {
      "cell_type": "code",
      "metadata": {
        "id": "XTJXDGdRXNSH",
        "colab_type": "code",
        "colab": {
          "base_uri": "https://localhost:8080/",
          "height": 34
        },
        "outputId": "43500064-0b9a-4aac-8331-272a0b97fb1f"
      },
      "source": [
        "# retornando um valor padrao para chaves que não existem\n",
        "aparicoes.get(\"nao existe\", 0)"
      ],
      "execution_count": null,
      "outputs": [
        {
          "output_type": "execute_result",
          "data": {
            "text/plain": [
              "0"
            ]
          },
          "metadata": {
            "tags": []
          },
          "execution_count": 53
        }
      ]
    },
    {
      "cell_type": "code",
      "metadata": {
        "id": "FVIlVdEnXgMU",
        "colab_type": "code",
        "colab": {
          "base_uri": "https://localhost:8080/",
          "height": 34
        },
        "outputId": "69fa07c8-3041-405b-8709-568963bbc485"
      },
      "source": [
        "aparicoes.get(\"meu\", 0)"
      ],
      "execution_count": null,
      "outputs": [
        {
          "output_type": "execute_result",
          "data": {
            "text/plain": [
              "2"
            ]
          },
          "metadata": {
            "tags": []
          },
          "execution_count": 55
        }
      ]
    },
    {
      "cell_type": "code",
      "metadata": {
        "id": "RC5ovEjQX0v0",
        "colab_type": "code",
        "colab": {
          "base_uri": "https://localhost:8080/",
          "height": 34
        },
        "outputId": "129c7a42-e666-4daf-f2a4-9b966841c92b"
      },
      "source": [
        "# podemos criar dicionarios usando o construtor\n",
        "dict(Bruno = 3, meu = 2, nome = 4)"
      ],
      "execution_count": null,
      "outputs": [
        {
          "output_type": "execute_result",
          "data": {
            "text/plain": [
              "{'Bruno': 3, 'meu': 2, 'nome': 4}"
            ]
          },
          "metadata": {
            "tags": []
          },
          "execution_count": 57
        }
      ]
    },
    {
      "cell_type": "markdown",
      "metadata": {
        "id": "IjVdiOgrYXBc",
        "colab_type": "text"
      },
      "source": [
        "### 2.1. Acessando elementos de um dicionário\n",
        "\n",
        "Para adicionar um novo par chave-valor em um dicionário que já existe podemos acessar este elemento através de sua chave e definir o seu valor:"
      ]
    },
    {
      "cell_type": "code",
      "metadata": {
        "id": "7rmqsw0oYr6N",
        "colab_type": "code",
        "colab": {
          "base_uri": "https://localhost:8080/",
          "height": 35
        },
        "outputId": "0a8526c0-0f97-45b1-a73e-e1c0a22d964e"
      },
      "source": [
        "aparicoes.get(\"novo\", \"não tem esse valor\")"
      ],
      "execution_count": null,
      "outputs": [
        {
          "output_type": "execute_result",
          "data": {
            "application/vnd.google.colaboratory.intrinsic+json": {
              "type": "string"
            },
            "text/plain": [
              "'não tem esse valor'"
            ]
          },
          "metadata": {
            "tags": []
          },
          "execution_count": 58
        }
      ]
    },
    {
      "cell_type": "code",
      "metadata": {
        "id": "1gJygUVQYx8P",
        "colab_type": "code",
        "colab": {
          "base_uri": "https://localhost:8080/",
          "height": 34
        },
        "outputId": "1dff6271-1386-4512-8e71-96fbbb36d47a"
      },
      "source": [
        "aparicoes[\"novo\"] = 15\n",
        "aparicoes"
      ],
      "execution_count": null,
      "outputs": [
        {
          "output_type": "execute_result",
          "data": {
            "text/plain": [
              "{'Bruno': 3, 'meu': 2, 'nome': 4, 'novo': 15, 'é': 2}"
            ]
          },
          "metadata": {
            "tags": []
          },
          "execution_count": 60
        }
      ]
    },
    {
      "cell_type": "markdown",
      "metadata": {
        "id": "Zf0r7bVbY7_e",
        "colab_type": "text"
      },
      "source": [
        "E para alterar o valor associado com uma chave podemos fazer da mesma forma, acessando a chave como um índice:"
      ]
    },
    {
      "cell_type": "code",
      "metadata": {
        "id": "iLCsAAEiZEZC",
        "colab_type": "code",
        "colab": {
          "base_uri": "https://localhost:8080/",
          "height": 34
        },
        "outputId": "9cfcfe75-0085-47db-b0a5-5d58d9f4033f"
      },
      "source": [
        "aparicoes[\"novo\"] = 0\n",
        "aparicoes"
      ],
      "execution_count": null,
      "outputs": [
        {
          "output_type": "execute_result",
          "data": {
            "text/plain": [
              "{'Bruno': 3, 'meu': 2, 'nome': 4, 'novo': 0, 'é': 2}"
            ]
          },
          "metadata": {
            "tags": []
          },
          "execution_count": 61
        }
      ]
    },
    {
      "cell_type": "markdown",
      "metadata": {
        "id": "9V5Np0Z2ZZdp",
        "colab_type": "text"
      },
      "source": [
        "Para deletar um elemento do dicionário devemos usar o operador `del`:"
      ]
    },
    {
      "cell_type": "code",
      "metadata": {
        "id": "Udj82UPzZgMG",
        "colab_type": "code",
        "colab": {
          "base_uri": "https://localhost:8080/",
          "height": 34
        },
        "outputId": "1e082e40-40c0-4309-d925-03f275972e22"
      },
      "source": [
        "del aparicoes[\"novo\"]\n",
        "aparicoes"
      ],
      "execution_count": null,
      "outputs": [
        {
          "output_type": "execute_result",
          "data": {
            "text/plain": [
              "{'Bruno': 3, 'meu': 2, 'nome': 4, 'é': 2}"
            ]
          },
          "metadata": {
            "tags": []
          },
          "execution_count": 62
        }
      ]
    },
    {
      "cell_type": "markdown",
      "metadata": {
        "id": "0LQuEOiYZp9Y",
        "colab_type": "text"
      },
      "source": [
        "Podemos usar o operador `in` para verificar se uma **chave** existe no dicionário:"
      ]
    },
    {
      "cell_type": "code",
      "metadata": {
        "id": "TxfjUHS4Z82u",
        "colab_type": "code",
        "colab": {
          "base_uri": "https://localhost:8080/",
          "height": 34
        },
        "outputId": "6e514124-525b-433c-c6fe-c099877a17f3"
      },
      "source": [
        "\"Bruno\" in aparicoes"
      ],
      "execution_count": null,
      "outputs": [
        {
          "output_type": "execute_result",
          "data": {
            "text/plain": [
              "True"
            ]
          },
          "metadata": {
            "tags": []
          },
          "execution_count": 63
        }
      ]
    },
    {
      "cell_type": "code",
      "metadata": {
        "id": "jR6hPAbeaCWo",
        "colab_type": "code",
        "colab": {
          "base_uri": "https://localhost:8080/",
          "height": 34
        },
        "outputId": "e20214f7-dd2d-4a14-95c6-88a8552c1baf"
      },
      "source": [
        "\"novo\" in aparicoes"
      ],
      "execution_count": null,
      "outputs": [
        {
          "output_type": "execute_result",
          "data": {
            "text/plain": [
              "False"
            ]
          },
          "metadata": {
            "tags": []
          },
          "execution_count": 64
        }
      ]
    },
    {
      "cell_type": "markdown",
      "metadata": {
        "id": "otreFj2XaSzQ",
        "colab_type": "text"
      },
      "source": [
        "### 2.2. Iterando sobre dicionários\n",
        "\n",
        "Os dicionários são iteradores e por padrão ele irá iterar sobre as chaves, o que faz sentido com o que vimos acima. Podemos obter iteráveis das chaves ou dos valores:"
      ]
    },
    {
      "cell_type": "code",
      "metadata": {
        "id": "KosP40-_aG6b",
        "colab_type": "code",
        "colab": {
          "base_uri": "https://localhost:8080/",
          "height": 34
        },
        "outputId": "86f593bb-ce99-40bd-a5ea-b36f2baff5da"
      },
      "source": [
        "aparicoes.keys()"
      ],
      "execution_count": null,
      "outputs": [
        {
          "output_type": "execute_result",
          "data": {
            "text/plain": [
              "dict_keys(['meu', 'nome', 'é', 'Bruno'])"
            ]
          },
          "metadata": {
            "tags": []
          },
          "execution_count": 71
        }
      ]
    },
    {
      "cell_type": "code",
      "metadata": {
        "id": "7bLpuRAUa559",
        "colab_type": "code",
        "colab": {
          "base_uri": "https://localhost:8080/",
          "height": 34
        },
        "outputId": "fb19ef0e-e695-480a-bdba-bbb9629e5b72"
      },
      "source": [
        "aparicoes.values()"
      ],
      "execution_count": null,
      "outputs": [
        {
          "output_type": "execute_result",
          "data": {
            "text/plain": [
              "dict_values([2, 4, 2, 3])"
            ]
          },
          "metadata": {
            "tags": []
          },
          "execution_count": 69
        }
      ]
    },
    {
      "cell_type": "markdown",
      "metadata": {
        "id": "g06fBBLNdvbW",
        "colab_type": "text"
      },
      "source": [
        "Se queremos iterar por cada um dos pares podemos percorrer o iterador das chaves e ir acessando cada um dos valores através do índice:"
      ]
    },
    {
      "cell_type": "code",
      "metadata": {
        "id": "anEYoVLnapQw",
        "colab_type": "code",
        "colab": {
          "base_uri": "https://localhost:8080/",
          "height": 86
        },
        "outputId": "b183feb5-ce37-44a9-ef7e-0476eed24ee0"
      },
      "source": [
        "for elemento in aparicoes.keys():\n",
        "  print(elemento, aparicoes[elemento])"
      ],
      "execution_count": null,
      "outputs": [
        {
          "output_type": "stream",
          "text": [
            "meu 2\n",
            "nome 4\n",
            "é 2\n",
            "Bruno 3\n"
          ],
          "name": "stdout"
        }
      ]
    },
    {
      "cell_type": "markdown",
      "metadata": {
        "id": "i23sjAq8eRxS",
        "colab_type": "text"
      },
      "source": [
        "Ou podemos recorrer ao outro iterador, o de items, que retorna um iterador com tuplas representando cada um dos items/elementos do dicionário:"
      ]
    },
    {
      "cell_type": "code",
      "metadata": {
        "id": "No__m0PNd2NY",
        "colab_type": "code",
        "colab": {
          "base_uri": "https://localhost:8080/",
          "height": 34
        },
        "outputId": "f8041ad5-3ec7-4675-cca1-d87b6ea7f679"
      },
      "source": [
        "aparicoes.items()"
      ],
      "execution_count": null,
      "outputs": [
        {
          "output_type": "execute_result",
          "data": {
            "text/plain": [
              "dict_items([('meu', 2), ('nome', 4), ('é', 2), ('Bruno', 3)])"
            ]
          },
          "metadata": {
            "tags": []
          },
          "execution_count": 73
        }
      ]
    },
    {
      "cell_type": "code",
      "metadata": {
        "id": "V2hxJwL9emmo",
        "colab_type": "code",
        "colab": {
          "base_uri": "https://localhost:8080/",
          "height": 86
        },
        "outputId": "89f51fdf-74ef-401f-ee9f-bf49945a7541"
      },
      "source": [
        "for elemento in aparicoes.items():\n",
        "  print(elemento)"
      ],
      "execution_count": null,
      "outputs": [
        {
          "output_type": "stream",
          "text": [
            "('meu', 2)\n",
            "('nome', 4)\n",
            "('é', 2)\n",
            "('Bruno', 3)\n"
          ],
          "name": "stdout"
        }
      ]
    },
    {
      "cell_type": "code",
      "metadata": {
        "id": "tmhLL6smfA3W",
        "colab_type": "code",
        "colab": {
          "base_uri": "https://localhost:8080/",
          "height": 86
        },
        "outputId": "22483659-f0f2-4ae6-e94b-65ec778eedbf"
      },
      "source": [
        "# podemos desempacotar a tupla\n",
        "for chave, valor in aparicoes.items():\n",
        "  print(chave, \":\", valor)"
      ],
      "execution_count": null,
      "outputs": [
        {
          "output_type": "stream",
          "text": [
            "meu : 2\n",
            "nome : 4\n",
            "é : 2\n",
            "Bruno : 3\n"
          ],
          "name": "stdout"
        }
      ]
    },
    {
      "cell_type": "markdown",
      "metadata": {
        "id": "MeBPXjpNfZ-U",
        "colab_type": "text"
      },
      "source": [
        "Como os métodos de dicionários retornam listas ou tuplas, podemos realizar operações características dessas coleções nos retornos, como por exemplo a compreenssão de listas:"
      ]
    },
    {
      "cell_type": "code",
      "metadata": {
        "id": "UYZE--DNfuK4",
        "colab_type": "code",
        "colab": {
          "base_uri": "https://localhost:8080/",
          "height": 34
        },
        "outputId": "90996407-db57-4664-f4de-04d28a747362"
      },
      "source": [
        "# concatena a string 'palavra ' a cada uma das chaves e joga numa lista\n",
        "[\"palavra {}\".format(chave) for chave in aparicoes.keys()]"
      ],
      "execution_count": null,
      "outputs": [
        {
          "output_type": "execute_result",
          "data": {
            "text/plain": [
              "['palavra meu', 'palavra nome', 'palavra é', 'palavra Bruno']"
            ]
          },
          "metadata": {
            "tags": []
          },
          "execution_count": 76
        }
      ]
    },
    {
      "cell_type": "markdown",
      "metadata": {
        "id": "wr8LxtTskB3F",
        "colab_type": "text"
      },
      "source": [
        "### 2.3. `defaultdict`\n",
        "\n",
        "Vamos contar as ocorrências de cada palavra simplesmente iterando sobre a lista:"
      ]
    },
    {
      "cell_type": "code",
      "metadata": {
        "id": "f-UoW-m7kC5f",
        "colab_type": "code",
        "colab": {
          "base_uri": "https://localhost:8080/",
          "height": 35
        },
        "outputId": "7d433e1c-69e0-4f33-e04b-f23b3751bbea"
      },
      "source": [
        "frase = \"Meu nome é Bruno e este é um nome muito comum tem muitas pessoas com nome bruno e eu gosto do meu nome\"\n",
        "frase"
      ],
      "execution_count": 4,
      "outputs": [
        {
          "output_type": "execute_result",
          "data": {
            "application/vnd.google.colaboratory.intrinsic+json": {
              "type": "string"
            },
            "text/plain": [
              "'Meu nome é Bruno e este é um nome muito comum tem muitas pessoas com nome bruno e eu gosto do meu nome'"
            ]
          },
          "metadata": {
            "tags": []
          },
          "execution_count": 4
        }
      ]
    },
    {
      "cell_type": "code",
      "metadata": {
        "id": "M2br8NgjkwsR",
        "colab_type": "code",
        "colab": {
          "base_uri": "https://localhost:8080/",
          "height": 295
        },
        "outputId": "a7c0ed5b-e828-4e2e-cb6d-b0fbb8ef13fb"
      },
      "source": [
        "aparicoes = {}\n",
        "\n",
        "for palavra in frase.lower().split():\n",
        "  ate_agora = aparicoes.get(palavra, 0)\n",
        "  aparicoes[palavra] = ate_agora + 1\n",
        "\n",
        "aparicoes"
      ],
      "execution_count": 6,
      "outputs": [
        {
          "output_type": "execute_result",
          "data": {
            "text/plain": [
              "{'bruno': 2,\n",
              " 'com': 1,\n",
              " 'comum': 1,\n",
              " 'do': 1,\n",
              " 'e': 2,\n",
              " 'este': 1,\n",
              " 'eu': 1,\n",
              " 'gosto': 1,\n",
              " 'meu': 2,\n",
              " 'muitas': 1,\n",
              " 'muito': 1,\n",
              " 'nome': 4,\n",
              " 'pessoas': 1,\n",
              " 'tem': 1,\n",
              " 'um': 1,\n",
              " 'é': 2}"
            ]
          },
          "metadata": {
            "tags": []
          },
          "execution_count": 6
        }
      ]
    },
    {
      "cell_type": "markdown",
      "metadata": {
        "id": "Fkxh3-Mno5b8",
        "colab_type": "text"
      },
      "source": [
        "Perceba que tivemos que acessar os elementos do dicionário com o `get()` e passando o valor padrão igual a zero, porque na primeira ocorrência verificada as chaves ainda não existiriam no dicionario que armazenava as ocorrências de cada palavra.\n",
        "\n",
        "Podemos refinar um pouco a forma como é feita a contagem definindo não um dicionário padrão, mas uma subclasse chamda `defaultdict`, que aceita um valor padrão para seus elementos.\n",
        "\n",
        "O `defaultdict` deve ser importado da biblioteca `collections` e na verdade recebe uma \"fábrica de valores\". Na prática essa fábrica é uma função que retorna o valor que queremos. No caso queremos que o valor padrão retornado seja o zero, então podemos apenas usar o construtor do tipo inteiro, o `int()` que retorna zero se não for passado nenhum valor."
      ]
    },
    {
      "cell_type": "code",
      "metadata": {
        "id": "i6fSSr4Dpeki",
        "colab_type": "code",
        "colab": {
          "base_uri": "https://localhost:8080/",
          "height": 312
        },
        "outputId": "9d770440-d692-41c4-d39c-16a63b070525"
      },
      "source": [
        "from collections import defaultdict\n",
        "\n",
        "aparicoes = defaultdict(int)\n",
        "\n",
        "for palavra in frase.lower().split():\n",
        "  aparicoes[palavra] += 1\n",
        "\n",
        "aparicoes"
      ],
      "execution_count": 9,
      "outputs": [
        {
          "output_type": "execute_result",
          "data": {
            "text/plain": [
              "defaultdict(int,\n",
              "            {'bruno': 2,\n",
              "             'com': 1,\n",
              "             'comum': 1,\n",
              "             'do': 1,\n",
              "             'e': 2,\n",
              "             'este': 1,\n",
              "             'eu': 1,\n",
              "             'gosto': 1,\n",
              "             'meu': 2,\n",
              "             'muitas': 1,\n",
              "             'muito': 1,\n",
              "             'nome': 4,\n",
              "             'pessoas': 1,\n",
              "             'tem': 1,\n",
              "             'um': 1,\n",
              "             'é': 2})"
            ]
          },
          "metadata": {
            "tags": []
          },
          "execution_count": 9
        }
      ]
    },
    {
      "cell_type": "markdown",
      "metadata": {
        "id": "xC-OMovYs2JM",
        "colab_type": "text"
      },
      "source": [
        "#### 2.3.1. `defaultdict` com outros tipos de valores\n",
        "\n",
        "Podemos passar outros tipos de valores além de inteiros, como o tipo Conta:"
      ]
    },
    {
      "cell_type": "code",
      "metadata": {
        "id": "1dRLjd8jtL7e",
        "colab_type": "code",
        "colab": {}
      },
      "source": [
        "class Conta:\n",
        "  def __init__(delf):\n",
        "    print(\"Conta criada\")"
      ],
      "execution_count": 10,
      "outputs": []
    },
    {
      "cell_type": "code",
      "metadata": {
        "id": "mSRdxUfTtWQo",
        "colab_type": "code",
        "colab": {
          "base_uri": "https://localhost:8080/",
          "height": 52
        },
        "outputId": "696c4b2a-faf2-4100-d245-76925fdab419"
      },
      "source": [
        "contas = defaultdict(Conta)\n",
        "contas[15]"
      ],
      "execution_count": 11,
      "outputs": [
        {
          "output_type": "stream",
          "text": [
            "Conta criada\n"
          ],
          "name": "stdout"
        },
        {
          "output_type": "execute_result",
          "data": {
            "text/plain": [
              "<__main__.Conta at 0x7f9e20c67e80>"
            ]
          },
          "metadata": {
            "tags": []
          },
          "execution_count": 11
        }
      ]
    },
    {
      "cell_type": "code",
      "metadata": {
        "id": "vYFNRguutf4C",
        "colab_type": "code",
        "colab": {
          "base_uri": "https://localhost:8080/",
          "height": 34
        },
        "outputId": "631fd103-5dc1-4ca2-b5be-7d79946dd21c"
      },
      "source": [
        "contas[29]"
      ],
      "execution_count": 14,
      "outputs": [
        {
          "output_type": "execute_result",
          "data": {
            "text/plain": [
              "<__main__.Conta at 0x7f9e288d50f0>"
            ]
          },
          "metadata": {
            "tags": []
          },
          "execution_count": 14
        }
      ]
    },
    {
      "cell_type": "code",
      "metadata": {
        "id": "KQyxICy5thuY",
        "colab_type": "code",
        "colab": {
          "base_uri": "https://localhost:8080/",
          "height": 69
        },
        "outputId": "82f701e5-726d-4df9-e0da-2b0ce5186ed8"
      },
      "source": [
        "contas"
      ],
      "execution_count": 13,
      "outputs": [
        {
          "output_type": "execute_result",
          "data": {
            "text/plain": [
              "defaultdict(__main__.Conta,\n",
              "            {15: <__main__.Conta at 0x7f9e20c67e80>,\n",
              "             29: <__main__.Conta at 0x7f9e288d50f0>})"
            ]
          },
          "metadata": {
            "tags": []
          },
          "execution_count": 13
        }
      ]
    },
    {
      "cell_type": "markdown",
      "metadata": {
        "id": "R-0mZ6mMt47B",
        "colab_type": "text"
      },
      "source": [
        "### 2.4. `Counter`\n",
        "\n",
        "Se existe uma forma de definir um dicionário com valor padrão, é razoável pensar que existe uma forma otimizada de definir um dicionário para ser usado como contador, e de fato existe, é o `Counter()`.\n",
        "\n",
        "O `Counter` também é uma subclasse dos dicionários e seu trunfo para esse uso é que seu contrutor aceita receber um iterável:"
      ]
    },
    {
      "cell_type": "code",
      "metadata": {
        "id": "LHH1MkjRt50m",
        "colab_type": "code",
        "colab": {
          "base_uri": "https://localhost:8080/",
          "height": 295
        },
        "outputId": "9310c78a-cefa-4490-ac51-13838e473ac1"
      },
      "source": [
        "from collections import Counter\n",
        "\n",
        "aparicoes = Counter(frase.lower().split())\n",
        "\n",
        "aparicoes"
      ],
      "execution_count": 15,
      "outputs": [
        {
          "output_type": "execute_result",
          "data": {
            "text/plain": [
              "Counter({'bruno': 2,\n",
              "         'com': 1,\n",
              "         'comum': 1,\n",
              "         'do': 1,\n",
              "         'e': 2,\n",
              "         'este': 1,\n",
              "         'eu': 1,\n",
              "         'gosto': 1,\n",
              "         'meu': 2,\n",
              "         'muitas': 1,\n",
              "         'muito': 1,\n",
              "         'nome': 4,\n",
              "         'pessoas': 1,\n",
              "         'tem': 1,\n",
              "         'um': 1,\n",
              "         'é': 2})"
            ]
          },
          "metadata": {
            "tags": []
          },
          "execution_count": 15
        }
      ]
    },
    {
      "cell_type": "markdown",
      "metadata": {
        "id": "YIG6N9FNxRZS",
        "colab_type": "text"
      },
      "source": [
        "## 3. Juntando tudo"
      ]
    },
    {
      "cell_type": "code",
      "metadata": {
        "id": "KA6DS-ZBxU9t",
        "colab_type": "code",
        "colab": {}
      },
      "source": [
        "texto1 = \"\"\"\n",
        "Por padrão, o idioma oficial do Django é o inglês, porém podemos alterar tanto a localização para utilizar o inglês australiano ou britânico, ou alterar o idioma para o português brasileiro ou de Portugal.\n",
        "No Django podemos definir também o horário que queremos utilizar como padrão. Por exemplo, para alterar o horário da aplicação para o horário de São Paulo.\n",
        "Uma cláusula JOIN em SQL, correspondente a uma operação de junção em álgebra relacional, combina colunas de uma ou mais tabelas em um banco de dados relacional. Ela cria um conjunto que pode ser salvo como uma tabela ou usado da forma como está.\n",
        "Em um banco de dados relacional, os dados são distribuídos em várias tabelas lógicas. Para obter um conjunto completo e significativo de dados, é necessário consultar dados dessas tabelas usando junções (JOINs).\n",
        "Para cada linha da tabela A, a consulta a compara com todas as linhas da tabela B. Se um par de linhas fizer com que a condição de junção seja avaliado como TRUE, os valores da coluna dessas linhas serão combinados para formar uma nova linha que será incluída no conjunto de resultados.\n",
        "\"\"\""
      ],
      "execution_count": 16,
      "outputs": []
    },
    {
      "cell_type": "code",
      "metadata": {
        "id": "dUaQrymMyUph",
        "colab_type": "code",
        "colab": {}
      },
      "source": [
        "texto2 = \"\"\"\n",
        "Carteira é o nome dado ao conjunto de clientes com quem os profissionais de venda ou uma empresa mantêm um relacionamento comercial. É a junção de todo tipo de consumidor: aqueles que compram com regularidade, mas em pequenas quantidades; aqueles que compram de vez em quando, mas em grandes quantidades; até aqueles que não compram há muito tempo, chamados de inativos.\n",
        "Uma carteira de clientes ativa está relacionada aos contatos que compram regularmente e/ou geram lucros para a empresa.\n",
        "Para criar uma carteira, a empresa precisa tanto analisar quem já mantém esses relacionamentos comerciais quanto os clientes em potencial. Aumentar a carteira de clientes é tão importante quanto administrá-la.\n",
        "Quando se fala de análise de clientes, não se trata apenas de saber quem são, qual é o mercado e quais são seus nomes mas também de como eles podem impactar a empresa. Uma cliente que compra com regularidade, mesmo em poucas quantidades, gera um lucro recorrente e estável; já quem compra raramente, mas em grandes quantidades, não representa um lucro com o qual se pode contar — por isso é preciso descobrir como fidelizar esse tipo de consumidor.\n",
        "Princípio de Pareto é uma ferramenta para organizar e categorizar a carteira de clientes. De acordo com ele, cerca de 20% dos consumidores de uma empresa representam 80% das vendas. Esses são contatos importantes, nos quais os responsáveis pelas vendas devem focar para manter a fidelidade; já os outros devem ser categorizados de acordo com o potencial.\n",
        "Quais são os clientes que, com o estímulo certo, podem passar a comprar mais da empresa? Muitas vezes, isso significa ir atrás de contatos antigos, descobrir o que diminuiu as vendas e ajudá-los com soluções novas e interessantes. Também é importante ficar de olho em clientes que estão comprando menos ou que tendem a deixar a empresa nos próximos meses.\n",
        "Fazendo essa análise, é possível descobrir como reconquistá-los e aumentar a satisfação — e, como consequência, melhorar os resultados da empresa.\n",
        "O mais importante, nesse contexto, é saber que nenhum plano ou análise é estático. Portanto, fique de olhos nos números, trabalhe com os fatos e faça alterações nos planos para se adequar à realidade da empresa e dos clientes. As melhores metodologias e ferramentas são aquelas que têm a ver com o momento pelo qual a empresa está passando.\n",
        "Quer entender mais sobre o mercado e identificar clientes em potencial? Conheça o curso de Customer Success da Alura e descubra por que manter o foco no cliente gera benefícios para a sua empresa.\n",
        "\"\"\""
      ],
      "execution_count": 17,
      "outputs": []
    },
    {
      "cell_type": "code",
      "metadata": {
        "id": "GVQkK06nyy6N",
        "colab_type": "code",
        "colab": {
          "base_uri": "https://localhost:8080/",
          "height": 34
        },
        "outputId": "49c12828-f62b-4954-ed49-35b9b95dced0"
      },
      "source": [
        "len(texto1)"
      ],
      "execution_count": 20,
      "outputs": [
        {
          "output_type": "execute_result",
          "data": {
            "text/plain": [
              "1108"
            ]
          },
          "metadata": {
            "tags": []
          },
          "execution_count": 20
        }
      ]
    },
    {
      "cell_type": "code",
      "metadata": {
        "id": "my0JkUdDzO4b",
        "colab_type": "code",
        "colab": {
          "base_uri": "https://localhost:8080/",
          "height": 34
        },
        "outputId": "08e268f6-8f83-4664-9ddf-a8c668a2f629"
      },
      "source": [
        "aparicoes = Counter(texto1.lower())\n",
        "total_caracteres = sum(aparicoes.values())\n",
        "total_caracteres"
      ],
      "execution_count": 24,
      "outputs": [
        {
          "output_type": "execute_result",
          "data": {
            "text/plain": [
              "1108"
            ]
          },
          "metadata": {
            "tags": []
          },
          "execution_count": 24
        }
      ]
    },
    {
      "cell_type": "code",
      "metadata": {
        "id": "Xq7RQdfnzVwn",
        "colab_type": "code",
        "colab": {
          "base_uri": "https://localhost:8080/",
          "height": 677
        },
        "outputId": "120b42c7-a445-4975-aa71-ab82bcc7d467"
      },
      "source": [
        "# percentual que cada letra representa\n",
        "for letra, frequencia in aparicoes.items():\n",
        "    print((letra, frequencia / total_caracteres))"
      ],
      "execution_count": 25,
      "outputs": [
        {
          "output_type": "stream",
          "text": [
            "('\\n', 0.005415162454873646)\n",
            "('p', 0.02256317689530686)\n",
            "('o', 0.10288808664259928)\n",
            "('r', 0.05324909747292419)\n",
            "(' ', 0.16606498194945848)\n",
            "('a', 0.11191335740072202)\n",
            "('d', 0.04512635379061372)\n",
            "('ã', 0.009927797833935019)\n",
            "(',', 0.009025270758122744)\n",
            "('i', 0.046028880866425995)\n",
            "('m', 0.033393501805054154)\n",
            "('f', 0.005415162454873646)\n",
            "('c', 0.0315884476534296)\n",
            "('l', 0.04422382671480144)\n",
            "('j', 0.009927797833935019)\n",
            "('n', 0.04061371841155235)\n",
            "('g', 0.008122743682310469)\n",
            "('é', 0.0036101083032490976)\n",
            "('ê', 0.002707581227436823)\n",
            "('s', 0.05415162454873646)\n",
            "('e', 0.05776173285198556)\n",
            "('t', 0.02888086642599278)\n",
            "('z', 0.0036101083032490976)\n",
            "('ç', 0.00631768953068592)\n",
            "('u', 0.04061371841155235)\n",
            "('b', 0.015342960288808664)\n",
            "('â', 0.0009025270758122744)\n",
            "('.', 0.008122743682310469)\n",
            "('h', 0.007220216606498195)\n",
            "('á', 0.008122743682310469)\n",
            "('q', 0.005415162454873646)\n",
            "('x', 0.0009025270758122744)\n",
            "('v', 0.005415162454873646)\n",
            "('í', 0.0018050541516245488)\n",
            "('ó', 0.0009025270758122744)\n",
            "('õ', 0.0009025270758122744)\n",
            "('(', 0.0009025270758122744)\n",
            "(')', 0.0009025270758122744)\n"
          ],
          "name": "stdout"
        }
      ]
    },
    {
      "cell_type": "code",
      "metadata": {
        "id": "JjCQWHIK0oAL",
        "colab_type": "code",
        "colab": {
          "base_uri": "https://localhost:8080/",
          "height": 677
        },
        "outputId": "185af82d-f481-477c-f996-58e8d8330e15"
      },
      "source": [
        "# crio um dicionário com as tuplas acima usando compreessão de listas\n",
        "proporcoes = dict((letra, frequencia / total_caracteres) for letra, frequencia in aparicoes.items())\n",
        "proporcoes"
      ],
      "execution_count": 29,
      "outputs": [
        {
          "output_type": "execute_result",
          "data": {
            "text/plain": [
              "{'\\n': 0.005415162454873646,\n",
              " ' ': 0.16606498194945848,\n",
              " '(': 0.0009025270758122744,\n",
              " ')': 0.0009025270758122744,\n",
              " ',': 0.009025270758122744,\n",
              " '.': 0.008122743682310469,\n",
              " 'a': 0.11191335740072202,\n",
              " 'b': 0.015342960288808664,\n",
              " 'c': 0.0315884476534296,\n",
              " 'd': 0.04512635379061372,\n",
              " 'e': 0.05776173285198556,\n",
              " 'f': 0.005415162454873646,\n",
              " 'g': 0.008122743682310469,\n",
              " 'h': 0.007220216606498195,\n",
              " 'i': 0.046028880866425995,\n",
              " 'j': 0.009927797833935019,\n",
              " 'l': 0.04422382671480144,\n",
              " 'm': 0.033393501805054154,\n",
              " 'n': 0.04061371841155235,\n",
              " 'o': 0.10288808664259928,\n",
              " 'p': 0.02256317689530686,\n",
              " 'q': 0.005415162454873646,\n",
              " 'r': 0.05324909747292419,\n",
              " 's': 0.05415162454873646,\n",
              " 't': 0.02888086642599278,\n",
              " 'u': 0.04061371841155235,\n",
              " 'v': 0.005415162454873646,\n",
              " 'x': 0.0009025270758122744,\n",
              " 'z': 0.0036101083032490976,\n",
              " 'á': 0.008122743682310469,\n",
              " 'â': 0.0009025270758122744,\n",
              " 'ã': 0.009927797833935019,\n",
              " 'ç': 0.00631768953068592,\n",
              " 'é': 0.0036101083032490976,\n",
              " 'ê': 0.002707581227436823,\n",
              " 'í': 0.0018050541516245488,\n",
              " 'ó': 0.0009025270758122744,\n",
              " 'õ': 0.0009025270758122744}"
            ]
          },
          "metadata": {
            "tags": []
          },
          "execution_count": 29
        }
      ]
    },
    {
      "cell_type": "code",
      "metadata": {
        "id": "zGA-_ool1cnA",
        "colab_type": "code",
        "colab": {
          "base_uri": "https://localhost:8080/",
          "height": 191
        },
        "outputId": "781fa84d-3edb-4f2d-8deb-53979eb888ef"
      },
      "source": [
        "# passo esse dict (que é um iteravel) para o Counter e uso um método para pegar os dez maiores\n",
        "proporcoes = Counter(proporcoes).most_common(10)\n",
        "proporcoes"
      ],
      "execution_count": 30,
      "outputs": [
        {
          "output_type": "execute_result",
          "data": {
            "text/plain": [
              "[(' ', 0.16606498194945848),\n",
              " ('a', 0.11191335740072202),\n",
              " ('o', 0.10288808664259928),\n",
              " ('e', 0.05776173285198556),\n",
              " ('s', 0.05415162454873646),\n",
              " ('r', 0.05324909747292419),\n",
              " ('i', 0.046028880866425995),\n",
              " ('d', 0.04512635379061372),\n",
              " ('l', 0.04422382671480144),\n",
              " ('n', 0.04061371841155235)]"
            ]
          },
          "metadata": {
            "tags": []
          },
          "execution_count": 30
        }
      ]
    },
    {
      "cell_type": "code",
      "metadata": {
        "id": "rrtJS41G2KGS",
        "colab_type": "code",
        "colab": {}
      },
      "source": [
        "# funcão para analisar as dez letras que mais aparecem em um texto\n",
        "def as_dez_mais(texto):\n",
        "    aparicoes = Counter(texto.lower())\n",
        "    total_caracteres = sum(aparicoes.values())\n",
        "\n",
        "    proporcoes = [(letra, frequencia / total_caracteres) for letra, frequencia in aparicoes.items()]\n",
        "    proporcoes = Counter(dict(proporcoes))\n",
        "    mais_comuns = proporcoes.most_common(10)\n",
        "\n",
        "    for caractere, proporcao in mais_comuns:\n",
        "        print(\"[{}] => {:.2f}%\".format(caractere, proporcao * 100))"
      ],
      "execution_count": 33,
      "outputs": []
    },
    {
      "cell_type": "code",
      "metadata": {
        "id": "_9Q3DUwd3xR3",
        "colab_type": "code",
        "colab": {
          "base_uri": "https://localhost:8080/",
          "height": 191
        },
        "outputId": "28df710e-647e-464c-a7cd-d55dc7e3fd4e"
      },
      "source": [
        "as_dez_mais(texto1)"
      ],
      "execution_count": 34,
      "outputs": [
        {
          "output_type": "stream",
          "text": [
            "[ ] => 16.61%\n",
            "[a] => 11.19%\n",
            "[o] => 10.29%\n",
            "[e] => 5.78%\n",
            "[s] => 5.42%\n",
            "[r] => 5.32%\n",
            "[i] => 4.60%\n",
            "[d] => 4.51%\n",
            "[l] => 4.42%\n",
            "[n] => 4.06%\n"
          ],
          "name": "stdout"
        }
      ]
    },
    {
      "cell_type": "code",
      "metadata": {
        "id": "7K6eLsaS367d",
        "colab_type": "code",
        "colab": {
          "base_uri": "https://localhost:8080/",
          "height": 191
        },
        "outputId": "125912d2-f25c-4e9e-885e-5d7106dc37d9"
      },
      "source": [
        "as_dez_mais(texto2)"
      ],
      "execution_count": 35,
      "outputs": [
        {
          "output_type": "stream",
          "text": [
            "[ ] => 16.10%\n",
            "[e] => 11.07%\n",
            "[a] => 9.42%\n",
            "[o] => 7.58%\n",
            "[s] => 7.18%\n",
            "[r] => 5.65%\n",
            "[m] => 4.91%\n",
            "[n] => 4.40%\n",
            "[t] => 4.24%\n",
            "[i] => 4.04%\n"
          ],
          "name": "stdout"
        }
      ]
    }
  ]
}